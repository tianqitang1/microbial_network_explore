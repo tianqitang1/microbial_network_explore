{
 "cells": [
  {
   "attachments": {},
   "cell_type": "markdown",
   "metadata": {},
   "source": [
    "Load Jupyter modules"
   ]
  },
  {
   "cell_type": "code",
   "execution_count": 2,
   "metadata": {},
   "outputs": [
    {
     "name": "stdout",
     "output_type": "stream",
     "text": [
      "The autoreload extension is already loaded. To reload it, use:\n",
      "  %reload_ext autoreload\n"
     ]
    },
    {
     "name": "stderr",
     "output_type": "stream",
     "text": [
      "c:\\Users\\dorasir\\anaconda3\\envs\\net-simu\\lib\\site-packages\\rpy2\\robjects\\packages.py:367: UserWarning: The symbol 'quartz' is not in this R namespace/package.\n",
      "  warnings.warn(\n"
     ]
    }
   ],
   "source": [
    "%load_ext autoreload\n",
    "%autoreload 2\n",
    "%load_ext rpy2.ipython"
   ]
  },
  {
   "attachments": {},
   "cell_type": "markdown",
   "metadata": {},
   "source": [
    "Setup R plotting"
   ]
  },
  {
   "cell_type": "code",
   "execution_count": 3,
   "metadata": {},
   "outputs": [
    {
     "name": "stderr",
     "output_type": "stream",
     "text": [
      "R[write to console]: \n",
      "载入程辑包：'dplyr'\n",
      "\n",
      "\n",
      "R[write to console]: The following objects are masked from 'package:stats':\n",
      "\n",
      "    filter, lag\n",
      "\n",
      "\n",
      "R[write to console]: The following objects are masked from 'package:base':\n",
      "\n",
      "    intersect, setdiff, setequal, union\n",
      "\n",
      "\n"
     ]
    },
    {
     "name": "stdout",
     "output_type": "stream",
     "text": [
      "── Attaching core tidyverse packages ──────────────────────── tidyverse 2.0.0 ──\n",
      "✔ forcats   1.0.0     ✔ readr     2.1.4\n",
      "✔ ggplot2   3.4.2     ✔ stringr   1.5.0\n",
      "✔ lubridate 1.9.2     ✔ tibble    3.2.1\n",
      "✔ purrr     1.0.1     ✔ tidyr     1.3.0\n",
      "── Conflicts ────────────────────────────────────────── tidyverse_conflicts() ──\n",
      "✖ dplyr::filter() masks stats::filter()\n",
      "✖ dplyr::lag()    masks stats::lag()\n",
      "ℹ Use the conflicted package (<http://conflicted.r-lib.org/>) to force all conflicts to become errors\n"
     ]
    },
    {
     "name": "stderr",
     "output_type": "stream",
     "text": [
      "R[write to console]: 载入需要的程辑包：carData\n",
      "\n",
      "R[write to console]: \n",
      "载入程辑包：'car'\n",
      "\n",
      "\n",
      "R[write to console]: The following object is masked from 'package:purrr':\n",
      "\n",
      "    some\n",
      "\n",
      "\n",
      "R[write to console]: The following object is masked from 'package:dplyr':\n",
      "\n",
      "    recode\n",
      "\n",
      "\n",
      "R[write to console]: \n",
      "载入程辑包：'rstatix'\n",
      "\n",
      "\n",
      "R[write to console]: The following object is masked from 'package:stats':\n",
      "\n",
      "    filter\n",
      "\n",
      "\n"
     ]
    }
   ],
   "source": [
    "%%R\n",
    "# Load R libraries\n",
    "library(dplyr)\n",
    "library(tidyverse)\n",
    "library(RColorBrewer)\n",
    "library(patchwork)\n",
    "library(car)\n",
    "library(ggpubr)\n",
    "library(rstatix)\n",
    "library(xtable)\n",
    "library(comprehenr)\n",
    "setwd('d:\\\\microbial_network\\\\microbial_network_explore')"
   ]
  },
  {
   "attachments": {},
   "cell_type": "markdown",
   "metadata": {},
   "source": [
    "Load Python modules"
   ]
  },
  {
   "cell_type": "code",
   "execution_count": 11,
   "metadata": {},
   "outputs": [],
   "source": [
    "import numpy as np\n",
    "import os\n",
    "from sklearn.metrics import average_precision_score, roc_auc_score\n",
    "import pandas as pd\n",
    "from utils.transformation import clr_transform, alr_transform\n",
    "from matplotlib import pyplot as plt\n",
    "from itertools import product\n",
    "from tqdm import tqdm\n",
    "import pandas as pd\n",
    "import seaborn as sns\n",
    "from utils import simulation\n",
    "import rpy2.robjects as robjects\n",
    "import seaborn as sns\n",
    "from utils.generalized_lotka_volterra import GeneralizedLotkaVolterra\n",
    "from utils.compositional_lotka_volterra import CompositionalLotkaVolterra\n",
    "from scipy.stats import ttest_rel\n",
    "import utils.evaluations as ev\n",
    "from utils.evaluations import correlation_score, spearman_score, precision_matrix_score, clv_score, glv_score, pcor_score, pspe_score, sparcc_score, speic_score, cclasso_score, baseline_score\n",
    "from typing import List\n",
    "import seaborn as sns\n",
    "from utils.transformation import *\n",
    "\n",
    "# Make sure the working directory is correct\n",
    "os.chdir('d:\\\\microbial_network\\\\microbial_network_explore')"
   ]
  },
  {
   "cell_type": "code",
   "execution_count": 13,
   "metadata": {},
   "outputs": [],
   "source": [
    "# Define function for evaluation\n",
    "def evaluation(adj, abundance, evaluation_func, metrics=average_precision_score, verbose=False, f=None):\n",
    "    scores = []\n",
    "    for func in evaluation_func:\n",
    "        try:\n",
    "            scores.append([func._method, *func(abundance, adj, metrics=metrics, verbose=verbose)])\n",
    "        except Exception as e:\n",
    "            scores.append([func._method, *[0] * len(metrics)])\n",
    "            f.write(f\"{func._method} failed: {e}\\n\")\n",
    "        if f:\n",
    "            f.write(f\"{func._method}\\n\")\n",
    "            f.flush()\n",
    "    columns = ['Method']\n",
    "    columns.extend([metric.__name__ for metric in metrics] if isinstance(metrics, List) else [metrics.__name__])\n",
    "    scores_df = pd.DataFrame(scores, columns=columns)\n",
    "    return scores_df"
   ]
  },
  {
   "attachments": {},
   "cell_type": "markdown",
   "metadata": {},
   "source": [
    "Set up the parameters for the first simulation"
   ]
  },
  {
   "cell_type": "code",
   "execution_count": 12,
   "metadata": {},
   "outputs": [],
   "source": [
    "# Set up parameters\n",
    "n_vertices = 20\n",
    "avg_degree = 5\n",
    "network_type = 'random'\n",
    "interaction_type = 'random'\n",
    "max_interaction_strength = 1\n",
    "time_points = 3000\n",
    "time_step = 0.01\n",
    "downsample = 1\n",
    "noise_var = 1e-3\n",
    "\n",
    "# evaluation_func = [correlation_score, spearman_score, clv_score, glv_score, pcor_score, pspe_score, sparcc_score, speic_score, baseline_score]\n",
    "# evaluation_func = [correlation_score, spearman_score, pcor_score, pspe_score, sparcc_score, speic_score, baseline_score]\n",
    "evaluation_func = [correlation_score, glv_score]\n",
    "metrics = [average_precision_score, roc_auc_score]\n",
    "\n",
    "# normalization_methods = [uq_transform, clr_transform, css_transform, tmm_transform, tmmwsp_transform, rle_transform, gmpr_transform, logcpm_transform, ast_transform, blom_transform, vst_transform, npn_transform, no_transform]\n",
    "normalization_methods = [uq_transform, median_transform]"
   ]
  },
  {
   "cell_type": "code",
   "execution_count": 14,
   "metadata": {},
   "outputs": [],
   "source": [
    "%%capture\n",
    "result_df = pd.DataFrame(columns=[\"Method\", \"run\", \"average_precision_score\", \"roc_auc_score\", \"Norm Method\"])\n",
    "repeat = 50\n",
    "rng = np.random.default_rng(42)\n",
    "\n",
    "log = open('data/normalization.log', 'w')\n",
    "\n",
    "for i in range(repeat):\n",
    "    seed = rng.integers(0, 2 ** 32 - 1)\n",
    "    adj, M = simulation.gen_graph(n_vertices, avg_degree, network_type, interaction_type, max_interaction_strength=1, seed=seed)\n",
    "    z, x, abd, _, _ = simulation.simulate_glv(\n",
    "        time_points=time_points,\n",
    "        time_step=time_step,\n",
    "        downsample=1,\n",
    "        noise_var=0,\n",
    "        adj=adj,\n",
    "        M=M,\n",
    "        seed=seed,\n",
    "    )\n",
    "    for norm_method in normalization_methods:\n",
    "        try:\n",
    "            norm_abd = norm_method(abd)\n",
    "            # norm_abd = norm_method(z, abd)\n",
    "        except:\n",
    "            norm_abd = abd\n",
    "        scores_df = evaluation(adj, norm_abd, evaluation_func, metrics=metrics, f=log)\n",
    "        scores_df['Norm Method'] = norm_method._method\n",
    "        scores_df['run'] = i\n",
    "        result_df = result_df.append(scores_df)\n",
    "    # result_df.to_csv('data/results/normalization.csv', index=False)"
   ]
  },
  {
   "cell_type": "code",
   "execution_count": 15,
   "metadata": {},
   "outputs": [
    {
     "name": "stderr",
     "output_type": "stream",
     "text": [
      "C:\\Users\\dorasir\\AppData\\Local\\Temp\\ipykernel_34520\\3923280540.py:2: FutureWarning: The frame.append method is deprecated and will be removed from pandas in a future version. Use pandas.concat instead.\n",
      "  result_df = result_df_old.append(result_df)\n"
     ]
    }
   ],
   "source": [
    "result_df_old = pd.read_csv('data/results/normalization.csv')\n",
    "result_df = result_df_old.append(result_df)"
   ]
  },
  {
   "cell_type": "code",
   "execution_count": 16,
   "metadata": {},
   "outputs": [
    {
     "name": "stderr",
     "output_type": "stream",
     "text": [
      "c:\\Users\\dorasir\\anaconda3\\envs\\net-simu\\lib\\site-packages\\rpy2\\robjects\\pandas2ri.py:56: UserWarning: DataFrame contains duplicated elements in the index, which will lead to loss of the row names in the resulting data.frame\n",
      "  warnings.warn('DataFrame contains duplicated elements in the index, '\n"
     ]
    },
    {
     "data": {
      "image/png": "[encoded data removed]",
      "text/plain": [
       "<IPython.core.display.Image object>"
      ]
     },
     "metadata": {},
     "output_type": "display_data"
    }
   ],
   "source": [
    "%%R -i result_df\n",
    "result_df <- result_df %>% filter(`Method` == 'gLV')\n",
    "result_df$Norm <- with(result_df, relevel(as.factor(`Norm Method`), \"None\"))\n",
    "methods = unique(result_df$Norm)\n",
    "my_comparisons = to_list(for (method in methods) if (method != 'None') c(method, 'None'))\n",
    "my_palette <- brewer.pal(n = length(methods), name = \"Paired\")\n",
    "pr_box <- ggplot(result_df, aes(x=Norm, y=average_precision_score, color=Norm)) +\n",
    "  geom_boxplot() +\n",
    "  geom_jitter(width = 0.2, size = 1, alpha = 0.3) +\n",
    "  scale_fill_brewer(palette = \"Paired\") +\n",
    "  scale_y_continuous(breaks = seq(0, 1, 0.1), labels = seq(0,1,0.1)) +\n",
    "  theme_bw() +\n",
    "  theme(legend.position = \"none\") +\n",
    "  labs(x = \"Normalization Method\", y = \"AUPRC\") +\n",
    "  # ggtitle(\"Absolute abundance\") +\n",
    "  stat_compare_means(comparisons = my_comparisons, label = \"p.signif\", method = 'wilcox.test', paired = TRUE, method.args = list(alternative = 'greater')) +\n",
    "  theme(plot.title = element_text(hjust = 0.5))\n",
    "pr_box\n",
    "# ggsave(filename = \"figures\\\\box_norm_pearson_prauc.pdf\",\n",
    "#  width = 20, height = 20, units = \"cm\")\n",
    "\n",
    "# auroc_box <- ggplot(result_df, aes(x=Norm, y=roc_auc_score, color=Norm)) +\n",
    "#   geom_boxplot() +\n",
    "#   geom_jitter(width = 0.2, size = 1, alpha = 0.3) +\n",
    "#   scale_fill_brewer(palette = \"Paired\") +\n",
    "#   scale_y_continuous(breaks = seq(0, 1, 0.1), labels = seq(0,1,0.1)) +\n",
    "#   theme_bw() +\n",
    "#   theme(legend.position = \"none\") +\n",
    "#   labs(x = \"Normalization Method\", y = \"AUPRC\") +\n",
    "#   # ggtitle(\"Absolute abundance\") +\n",
    "#   stat_compare_means(comparisons = my_comparisons, label = \"p.signif\", method = 'wilcox.test', paired = TRUE, method.args = list(alternative = 'greater')) +\n",
    "#   theme(plot.title = element_text(hjust = 0.5))\n",
    "# box_norm <- pr_box + auroc_box\n",
    "# box_norm\n",
    "# ggsave(filename = \"figures\\\\box_norm_pearson.pdf\",\n",
    "#  width = 40, height = 20, units = \"cm\")"
   ]
  },
  {
   "cell_type": "code",
   "execution_count": 9,
   "metadata": {},
   "outputs": [],
   "source": [
    "%%capture\n",
    "normalization_methods = [qn_transform, fsqn_trasform, bmc_transform, limma_transform, combat_transform, no_transform]\n",
    "evaluation_func = [glv_score]\n",
    "result_df = pd.DataFrame(columns=[\"Method\", \"run\", \"average_precision_score\", \"roc_auc_score\", \"Norm Method\"])\n",
    "repeat = 50\n",
    "rng = np.random.default_rng(42)\n",
    "\n",
    "for i in range(repeat):\n",
    "    seed = rng.integers(0, 2 ** 32 - 1)\n",
    "    adj, M = simulation.gen_graph(n_vertices, avg_degree, network_type, interaction_type, max_interaction_strength=1, seed=seed)\n",
    "    z, x, abd, _, _ = simulation.simulate_glv(\n",
    "        time_points=time_points,\n",
    "        time_step=time_step,\n",
    "        downsample=1,\n",
    "        noise_var=0,\n",
    "        adj=adj,\n",
    "        M=M,\n",
    "        seed=seed,\n",
    "    )\n",
    "    for norm_method in normalization_methods:\n",
    "        try:\n",
    "            # norm_abd = norm_method(abd)\n",
    "            norm_abd = norm_method(z, abd)\n",
    "        except:\n",
    "            norm_abd = abd\n",
    "        scores_df = evaluation(adj, norm_abd, evaluation_func, metrics=metrics)\n",
    "        scores_df['Norm Method'] = norm_method._method\n",
    "        scores_df['run'] = i\n",
    "        result_df = result_df.append(scores_df)"
   ]
  },
  {
   "cell_type": "code",
   "execution_count": 42,
   "metadata": {},
   "outputs": [
    {
     "name": "stderr",
     "output_type": "stream",
     "text": [
      "c:\\Users\\dorasir\\anaconda3\\envs\\net-simu\\lib\\site-packages\\rpy2\\robjects\\pandas2ri.py:56: UserWarning: DataFrame contains duplicated elements in the index, which will lead to loss of the row names in the resulting data.frame\n",
      "  warnings.warn('DataFrame contains duplicated elements in the index, '\n"
     ]
    }
   ],
   "source": [
    "%%R -i result_df\n",
    "result_df$Norm <- with(result_df, relevel(as.factor(`Norm Method`), \"None\"))\n",
    "methods = unique(result_df$Norm)\n",
    "my_comparisons = to_list(for (method in methods) if (method != 'None') c(method, 'None'))\n",
    "my_palette <- brewer.pal(n = length(methods), name = \"Paired\")\n",
    "pr_box <- ggplot(result_df, aes(x=Norm, y=average_precision_score, color=Norm)) +\n",
    "  geom_boxplot() +\n",
    "  geom_jitter(width = 0.2, size = 1, alpha = 0.3) +\n",
    "  scale_fill_brewer(palette = \"Paired\") +\n",
    "  scale_y_continuous(breaks = seq(0, 1, 0.1), labels = seq(0,1,0.1)) +\n",
    "  theme_bw() +\n",
    "  theme(legend.position = \"none\") +\n",
    "  labs(x = \"Normalization Method\", y = \"AUPRC\") +\n",
    "  # ggtitle(\"Absolute abundance\") +\n",
    "  stat_compare_means(comparisons = my_comparisons, label = \"p.signif\", method = 'wilcox.test', paired = TRUE, method.args = list(alternative = 'greater')) +\n",
    "  theme(plot.title = element_text(hjust = 0.5))\n",
    "pr_box\n",
    "ggsave(filename = \"figures\\\\box_norm_pearson_prauc_ref.pdf\",\n",
    "  width = 20, height = 20, units = \"cm\")"
   ]
  },
  {
   "cell_type": "code",
   "execution_count": 20,
   "metadata": {},
   "outputs": [],
   "source": [
    "result_df2 = pd.read_table('data/results/normalization_no_ref.csv', sep=',')"
   ]
  },
  {
   "cell_type": "code",
   "execution_count": 21,
   "metadata": {},
   "outputs": [],
   "source": [
    "result_df_all = pd.concat([result_df, result_df2])"
   ]
  },
  {
   "cell_type": "code",
   "execution_count": 7,
   "metadata": {},
   "outputs": [
    {
     "name": "stderr",
     "output_type": "stream",
     "text": [
      "R[write to console]: Error in relevel.factor(as.factor(Norm_Method), \"None\") : \n",
      "  'ref'必需是存在的层次\n",
      "\n"
     ]
    },
    {
     "name": "stdout",
     "output_type": "stream",
     "text": [
      "\n",
      "Error in relevel.factor(as.factor(Norm_Method), \"None\") : \n",
      "  'ref'必需是存在的层次\n"
     ]
    },
    {
     "ename": "RInterpreterError",
     "evalue": "Failed to parse and evaluate line '# result_df <- read.csv(\\'data/results/normalization_with_ref.csv\\')\\nresult_df <- read.csv(\\'data/results/normalization_complete.csv\\')\\nresult_df <- result_df %>% filter(`Method` == \\'gLV\\')\\nresult_df$Norm <- with(result_df, relevel(as.factor(`Norm_Method`), \"None\"))\\nmethods = unique(result_df$Norm)\\nmy_comparisons = to_list(for (method in methods) if (method != \\'None\\') c(method, \\'None\\'))\\nmy_palette <- brewer.pal(n = length(methods), name = \"Paired\")\\npr_box <- ggplot(result_df, aes(x=Norm, y=average_precision_score, color=Norm)) +\\n  geom_boxplot() +\\n  geom_jitter(width = 0.2, size = 1, alpha = 0.3) +\\n  scale_fill_brewer(palette = \"Paired\") +\\n  scale_y_continuous(breaks = seq(0, 1, 0.1), labels = seq(0,1,0.1)) +\\n  theme_bw() +\\n  theme(legend.position = \"none\") +\\n  labs(x = \"Normalization Method\", y = \"Average Precision Score\") +\\n  # ggtitle(\"Absolute abundance\") +\\n  stat_compare_means(comparisons = my_comparisons, label = \"p.signif\", method = \\'wilcox.test\\', paired = TRUE, method.args = list(alternative = \\'greater\\')) +\\n  theme(plot.title = element_text(hjust = 0.5))\\npr_box\\n# ggsave(filename = \"figures\\\\\\\\box_norm_gLV_prauc.pdf\",\\n#   width = 20, height = 20, units = \"cm\")\\n'.\nR error message: 'Error in relevel.factor(as.factor(Norm_Method), \"None\") : \\n  \\'ref\\'必需是存在的层次'",
     "output_type": "error",
     "traceback": [
      "\u001b[1;31m---------------------------------------------------------------------------\u001b[0m",
      "\u001b[1;31mRRuntimeError\u001b[0m                             Traceback (most recent call last)",
      "File \u001b[1;32mc:\\Users\\dorasir\\anaconda3\\envs\\net-simu\\lib\\site-packages\\rpy2\\ipython\\rmagic.py:385\u001b[0m, in \u001b[0;36mRMagics.eval\u001b[1;34m(self, code)\u001b[0m\n\u001b[0;32m    383\u001b[0m \u001b[39mtry\u001b[39;00m:\n\u001b[0;32m    384\u001b[0m     \u001b[39m# Need the newline in case the last line in code is a comment.\u001b[39;00m\n\u001b[1;32m--> 385\u001b[0m     value, visible \u001b[39m=\u001b[39m ro\u001b[39m.\u001b[39;49mr(\u001b[39m\"\u001b[39;49m\u001b[39mwithVisible(\u001b[39;49m\u001b[39m{\u001b[39;49m\u001b[39m%s\u001b[39;49;00m\u001b[39m\\n\u001b[39;49;00m\u001b[39m})\u001b[39;49m\u001b[39m\"\u001b[39;49m \u001b[39m%\u001b[39;49m code)\n\u001b[0;32m    386\u001b[0m \u001b[39mexcept\u001b[39;00m (ri\u001b[39m.\u001b[39membedded\u001b[39m.\u001b[39mRRuntimeError, \u001b[39mValueError\u001b[39;00m) \u001b[39mas\u001b[39;00m exception:\n\u001b[0;32m    387\u001b[0m     \u001b[39m# Otherwise next return seems to have copy of error.\u001b[39;00m\n",
      "File \u001b[1;32mc:\\Users\\dorasir\\anaconda3\\envs\\net-simu\\lib\\site-packages\\rpy2\\robjects\\__init__.py:459\u001b[0m, in \u001b[0;36mR.__call__\u001b[1;34m(self, string)\u001b[0m\n\u001b[0;32m    458\u001b[0m p \u001b[39m=\u001b[39m rinterface\u001b[39m.\u001b[39mparse(string)\n\u001b[1;32m--> 459\u001b[0m res \u001b[39m=\u001b[39m \u001b[39mself\u001b[39;49m\u001b[39m.\u001b[39;49meval(p)\n\u001b[0;32m    460\u001b[0m \u001b[39mreturn\u001b[39;00m conversion\u001b[39m.\u001b[39mget_conversion()\u001b[39m.\u001b[39mrpy2py(res)\n",
      "File \u001b[1;32mc:\\Users\\dorasir\\anaconda3\\envs\\net-simu\\lib\\site-packages\\rpy2\\robjects\\functions.py:208\u001b[0m, in \u001b[0;36mSignatureTranslatedFunction.__call__\u001b[1;34m(self, *args, **kwargs)\u001b[0m\n\u001b[0;32m    207\u001b[0m         kwargs[r_k] \u001b[39m=\u001b[39m v\n\u001b[1;32m--> 208\u001b[0m \u001b[39mreturn\u001b[39;00m (\u001b[39msuper\u001b[39m(SignatureTranslatedFunction, \u001b[39mself\u001b[39m)\n\u001b[0;32m    209\u001b[0m         \u001b[39m.\u001b[39m\u001b[39m__call__\u001b[39m(\u001b[39m*\u001b[39margs, \u001b[39m*\u001b[39m\u001b[39m*\u001b[39mkwargs))\n",
      "File \u001b[1;32mc:\\Users\\dorasir\\anaconda3\\envs\\net-simu\\lib\\site-packages\\rpy2\\robjects\\functions.py:131\u001b[0m, in \u001b[0;36mFunction.__call__\u001b[1;34m(self, *args, **kwargs)\u001b[0m\n\u001b[0;32m    130\u001b[0m         new_kwargs[k] \u001b[39m=\u001b[39m cv\u001b[39m.\u001b[39mpy2rpy(v)\n\u001b[1;32m--> 131\u001b[0m res \u001b[39m=\u001b[39m \u001b[39msuper\u001b[39m(Function, \u001b[39mself\u001b[39m)\u001b[39m.\u001b[39m\u001b[39m__call__\u001b[39m(\u001b[39m*\u001b[39mnew_args, \u001b[39m*\u001b[39m\u001b[39m*\u001b[39mnew_kwargs)\n\u001b[0;32m    132\u001b[0m res \u001b[39m=\u001b[39m cv\u001b[39m.\u001b[39mrpy2py(res)\n",
      "File \u001b[1;32mc:\\Users\\dorasir\\anaconda3\\envs\\net-simu\\lib\\site-packages\\rpy2\\rinterface_lib\\conversion.py:45\u001b[0m, in \u001b[0;36m_cdata_res_to_rinterface.<locals>._\u001b[1;34m(*args, **kwargs)\u001b[0m\n\u001b[0;32m     44\u001b[0m \u001b[39mdef\u001b[39;00m \u001b[39m_\u001b[39m(\u001b[39m*\u001b[39margs, \u001b[39m*\u001b[39m\u001b[39m*\u001b[39mkwargs):\n\u001b[1;32m---> 45\u001b[0m     cdata \u001b[39m=\u001b[39m function(\u001b[39m*\u001b[39margs, \u001b[39m*\u001b[39m\u001b[39m*\u001b[39mkwargs)\n\u001b[0;32m     46\u001b[0m     \u001b[39m# TODO: test cdata is of the expected CType\u001b[39;00m\n",
      "File \u001b[1;32mc:\\Users\\dorasir\\anaconda3\\envs\\net-simu\\lib\\site-packages\\rpy2\\rinterface.py:817\u001b[0m, in \u001b[0;36mSexpClosure.__call__\u001b[1;34m(self, *args, **kwargs)\u001b[0m\n\u001b[0;32m    816\u001b[0m     \u001b[39mif\u001b[39;00m error_occured[\u001b[39m0\u001b[39m]:\n\u001b[1;32m--> 817\u001b[0m         \u001b[39mraise\u001b[39;00m embedded\u001b[39m.\u001b[39mRRuntimeError(_rinterface\u001b[39m.\u001b[39m_geterrmessage())\n\u001b[0;32m    818\u001b[0m \u001b[39mreturn\u001b[39;00m res\n",
      "\u001b[1;31mRRuntimeError\u001b[0m: Error in relevel.factor(as.factor(Norm_Method), \"None\") : \n  'ref'必需是存在的层次\n",
      "\nDuring handling of the above exception, another exception occurred:\n",
      "\u001b[1;31mRInterpreterError\u001b[0m                         Traceback (most recent call last)",
      "Cell \u001b[1;32mIn[7], line 1\u001b[0m\n\u001b[1;32m----> 1\u001b[0m get_ipython()\u001b[39m.\u001b[39;49mrun_cell_magic(\u001b[39m'\u001b[39;49m\u001b[39mR\u001b[39;49m\u001b[39m'\u001b[39;49m, \u001b[39m'\u001b[39;49m\u001b[39m'\u001b[39;49m, \u001b[39m'\u001b[39;49m\u001b[39m# result_df <- read.csv(\u001b[39;49m\u001b[39m\\'\u001b[39;49;00m\u001b[39mdata/results/normalization_with_ref.csv\u001b[39;49m\u001b[39m\\'\u001b[39;49;00m\u001b[39m)\u001b[39;49m\u001b[39m\\n\u001b[39;49;00m\u001b[39mresult_df <- read.csv(\u001b[39;49m\u001b[39m\\'\u001b[39;49;00m\u001b[39mdata/results/normalization_complete.csv\u001b[39;49m\u001b[39m\\'\u001b[39;49;00m\u001b[39m)\u001b[39;49m\u001b[39m\\n\u001b[39;49;00m\u001b[39mresult_df <- result_df \u001b[39;49m\u001b[39m%\u001b[39;49m\u001b[39m>\u001b[39;49m\u001b[39m% f\u001b[39;49;00m\u001b[39milter(`Method` == \u001b[39;49m\u001b[39m\\'\u001b[39;49;00m\u001b[39mgLV\u001b[39;49m\u001b[39m\\'\u001b[39;49;00m\u001b[39m)\u001b[39;49m\u001b[39m\\n\u001b[39;49;00m\u001b[39mresult_df$Norm <- with(result_df, relevel(as.factor(`Norm_Method`), \u001b[39;49m\u001b[39m\"\u001b[39;49m\u001b[39mNone\u001b[39;49m\u001b[39m\"\u001b[39;49m\u001b[39m))\u001b[39;49m\u001b[39m\\n\u001b[39;49;00m\u001b[39mmethods = unique(result_df$Norm)\u001b[39;49m\u001b[39m\\n\u001b[39;49;00m\u001b[39mmy_comparisons = to_list(for (method in methods) if (method != \u001b[39;49m\u001b[39m\\'\u001b[39;49;00m\u001b[39mNone\u001b[39;49m\u001b[39m\\'\u001b[39;49;00m\u001b[39m) c(method, \u001b[39;49m\u001b[39m\\'\u001b[39;49;00m\u001b[39mNone\u001b[39;49m\u001b[39m\\'\u001b[39;49;00m\u001b[39m))\u001b[39;49m\u001b[39m\\n\u001b[39;49;00m\u001b[39mmy_palette <- brewer.pal(n = length(methods), name = \u001b[39;49m\u001b[39m\"\u001b[39;49m\u001b[39mPaired\u001b[39;49m\u001b[39m\"\u001b[39;49m\u001b[39m)\u001b[39;49m\u001b[39m\\n\u001b[39;49;00m\u001b[39mpr_box <- ggplot(result_df, aes(x=Norm, y=average_precision_score, color=Norm)) +\u001b[39;49m\u001b[39m\\n\u001b[39;49;00m\u001b[39m  geom_boxplot() +\u001b[39;49m\u001b[39m\\n\u001b[39;49;00m\u001b[39m  geom_jitter(width = 0.2, size = 1, alpha = 0.3) +\u001b[39;49m\u001b[39m\\n\u001b[39;49;00m\u001b[39m  scale_fill_brewer(palette = \u001b[39;49m\u001b[39m\"\u001b[39;49m\u001b[39mPaired\u001b[39;49m\u001b[39m\"\u001b[39;49m\u001b[39m) +\u001b[39;49m\u001b[39m\\n\u001b[39;49;00m\u001b[39m  scale_y_continuous(breaks = seq(0, 1, 0.1), labels = seq(0,1,0.1)) +\u001b[39;49m\u001b[39m\\n\u001b[39;49;00m\u001b[39m  theme_bw() +\u001b[39;49m\u001b[39m\\n\u001b[39;49;00m\u001b[39m  theme(legend.position = \u001b[39;49m\u001b[39m\"\u001b[39;49m\u001b[39mnone\u001b[39;49m\u001b[39m\"\u001b[39;49m\u001b[39m) +\u001b[39;49m\u001b[39m\\n\u001b[39;49;00m\u001b[39m  labs(x = \u001b[39;49m\u001b[39m\"\u001b[39;49m\u001b[39mNormalization Method\u001b[39;49m\u001b[39m\"\u001b[39;49m\u001b[39m, y = \u001b[39;49m\u001b[39m\"\u001b[39;49m\u001b[39mAverage Precision Score\u001b[39;49m\u001b[39m\"\u001b[39;49m\u001b[39m) +\u001b[39;49m\u001b[39m\\n\u001b[39;49;00m\u001b[39m  # ggtitle(\u001b[39;49m\u001b[39m\"\u001b[39;49m\u001b[39mAbsolute abundance\u001b[39;49m\u001b[39m\"\u001b[39;49m\u001b[39m) +\u001b[39;49m\u001b[39m\\n\u001b[39;49;00m\u001b[39m  stat_compare_means(comparisons = my_comparisons, label = \u001b[39;49m\u001b[39m\"\u001b[39;49m\u001b[39mp.signif\u001b[39;49m\u001b[39m\"\u001b[39;49m\u001b[39m, method = \u001b[39;49m\u001b[39m\\'\u001b[39;49;00m\u001b[39mwilcox.test\u001b[39;49m\u001b[39m\\'\u001b[39;49;00m\u001b[39m, paired = TRUE, method.args = list(alternative = \u001b[39;49m\u001b[39m\\'\u001b[39;49;00m\u001b[39mgreater\u001b[39;49m\u001b[39m\\'\u001b[39;49;00m\u001b[39m)) +\u001b[39;49m\u001b[39m\\n\u001b[39;49;00m\u001b[39m  theme(plot.title = element_text(hjust = 0.5))\u001b[39;49m\u001b[39m\\n\u001b[39;49;00m\u001b[39mpr_box\u001b[39;49m\u001b[39m\\n\u001b[39;49;00m\u001b[39m# ggsave(filename = \u001b[39;49m\u001b[39m\"\u001b[39;49m\u001b[39mfigures\u001b[39;49m\u001b[39m\\\\\u001b[39;49;00m\u001b[39m\\\\\u001b[39;49;00m\u001b[39mbox_norm_gLV_prauc.pdf\u001b[39;49m\u001b[39m\"\u001b[39;49m\u001b[39m,\u001b[39;49m\u001b[39m\\n\u001b[39;49;00m\u001b[39m#   width = 20, height = 20, units = \u001b[39;49m\u001b[39m\"\u001b[39;49m\u001b[39mcm\u001b[39;49m\u001b[39m\"\u001b[39;49m\u001b[39m)\u001b[39;49m\u001b[39m\\n\u001b[39;49;00m\u001b[39m'\u001b[39;49m)\n",
      "File \u001b[1;32mc:\\Users\\dorasir\\anaconda3\\envs\\net-simu\\lib\\site-packages\\IPython\\core\\interactiveshell.py:2430\u001b[0m, in \u001b[0;36mInteractiveShell.run_cell_magic\u001b[1;34m(self, magic_name, line, cell)\u001b[0m\n\u001b[0;32m   2428\u001b[0m \u001b[39mwith\u001b[39;00m \u001b[39mself\u001b[39m\u001b[39m.\u001b[39mbuiltin_trap:\n\u001b[0;32m   2429\u001b[0m     args \u001b[39m=\u001b[39m (magic_arg_s, cell)\n\u001b[1;32m-> 2430\u001b[0m     result \u001b[39m=\u001b[39m fn(\u001b[39m*\u001b[39margs, \u001b[39m*\u001b[39m\u001b[39m*\u001b[39mkwargs)\n\u001b[0;32m   2432\u001b[0m \u001b[39m# The code below prevents the output from being displayed\u001b[39;00m\n\u001b[0;32m   2433\u001b[0m \u001b[39m# when using magics with decodator @output_can_be_silenced\u001b[39;00m\n\u001b[0;32m   2434\u001b[0m \u001b[39m# when the last Python token in the expression is a ';'.\u001b[39;00m\n\u001b[0;32m   2435\u001b[0m \u001b[39mif\u001b[39;00m \u001b[39mgetattr\u001b[39m(fn, magic\u001b[39m.\u001b[39mMAGIC_OUTPUT_CAN_BE_SILENCED, \u001b[39mFalse\u001b[39;00m):\n",
      "File \u001b[1;32mc:\\Users\\dorasir\\anaconda3\\envs\\net-simu\\lib\\site-packages\\rpy2\\ipython\\rmagic.py:943\u001b[0m, in \u001b[0;36mRMagics.R\u001b[1;34m(self, line, cell, local_ns)\u001b[0m\n\u001b[0;32m    941\u001b[0m     \u001b[39mif\u001b[39;00m \u001b[39mnot\u001b[39;00m e\u001b[39m.\u001b[39mstdout\u001b[39m.\u001b[39mendswith(e\u001b[39m.\u001b[39merr):\n\u001b[0;32m    942\u001b[0m         \u001b[39mprint\u001b[39m(e\u001b[39m.\u001b[39merr)\n\u001b[1;32m--> 943\u001b[0m     \u001b[39mraise\u001b[39;00m e\n\u001b[0;32m    944\u001b[0m \u001b[39mfinally\u001b[39;00m:\n\u001b[0;32m    945\u001b[0m     \u001b[39mif\u001b[39;00m \u001b[39mself\u001b[39m\u001b[39m.\u001b[39mdevice \u001b[39min\u001b[39;00m DEVICES_STATIC:\n",
      "File \u001b[1;32mc:\\Users\\dorasir\\anaconda3\\envs\\net-simu\\lib\\site-packages\\rpy2\\ipython\\rmagic.py:923\u001b[0m, in \u001b[0;36mRMagics.R\u001b[1;34m(self, line, cell, local_ns)\u001b[0m\n\u001b[0;32m    921\u001b[0m         return_output \u001b[39m=\u001b[39m \u001b[39mFalse\u001b[39;00m\n\u001b[0;32m    922\u001b[0m \u001b[39melse\u001b[39;00m:\n\u001b[1;32m--> 923\u001b[0m     text_result, result, visible \u001b[39m=\u001b[39m \u001b[39mself\u001b[39;49m\u001b[39m.\u001b[39;49meval(code)\n\u001b[0;32m    924\u001b[0m     text_output \u001b[39m+\u001b[39m\u001b[39m=\u001b[39m text_result\n\u001b[0;32m    925\u001b[0m     \u001b[39mif\u001b[39;00m visible:\n",
      "File \u001b[1;32mc:\\Users\\dorasir\\anaconda3\\envs\\net-simu\\lib\\site-packages\\rpy2\\ipython\\rmagic.py:389\u001b[0m, in \u001b[0;36mRMagics.eval\u001b[1;34m(self, code)\u001b[0m\n\u001b[0;32m    386\u001b[0m \u001b[39mexcept\u001b[39;00m (ri\u001b[39m.\u001b[39membedded\u001b[39m.\u001b[39mRRuntimeError, \u001b[39mValueError\u001b[39;00m) \u001b[39mas\u001b[39;00m exception:\n\u001b[0;32m    387\u001b[0m     \u001b[39m# Otherwise next return seems to have copy of error.\u001b[39;00m\n\u001b[0;32m    388\u001b[0m     warning_or_other_msg \u001b[39m=\u001b[39m \u001b[39mself\u001b[39m\u001b[39m.\u001b[39mflush()\n\u001b[1;32m--> 389\u001b[0m     \u001b[39mraise\u001b[39;00m RInterpreterError(code, \u001b[39mstr\u001b[39m(exception),\n\u001b[0;32m    390\u001b[0m                             warning_or_other_msg)\n\u001b[0;32m    391\u001b[0m text_output \u001b[39m=\u001b[39m \u001b[39mself\u001b[39m\u001b[39m.\u001b[39mflush()\n\u001b[0;32m    392\u001b[0m \u001b[39mreturn\u001b[39;00m text_output, value, visible[\u001b[39m0\u001b[39m]\n",
      "\u001b[1;31mRInterpreterError\u001b[0m: Failed to parse and evaluate line '# result_df <- read.csv(\\'data/results/normalization_with_ref.csv\\')\\nresult_df <- read.csv(\\'data/results/normalization_complete.csv\\')\\nresult_df <- result_df %>% filter(`Method` == \\'gLV\\')\\nresult_df$Norm <- with(result_df, relevel(as.factor(`Norm_Method`), \"None\"))\\nmethods = unique(result_df$Norm)\\nmy_comparisons = to_list(for (method in methods) if (method != \\'None\\') c(method, \\'None\\'))\\nmy_palette <- brewer.pal(n = length(methods), name = \"Paired\")\\npr_box <- ggplot(result_df, aes(x=Norm, y=average_precision_score, color=Norm)) +\\n  geom_boxplot() +\\n  geom_jitter(width = 0.2, size = 1, alpha = 0.3) +\\n  scale_fill_brewer(palette = \"Paired\") +\\n  scale_y_continuous(breaks = seq(0, 1, 0.1), labels = seq(0,1,0.1)) +\\n  theme_bw() +\\n  theme(legend.position = \"none\") +\\n  labs(x = \"Normalization Method\", y = \"Average Precision Score\") +\\n  # ggtitle(\"Absolute abundance\") +\\n  stat_compare_means(comparisons = my_comparisons, label = \"p.signif\", method = \\'wilcox.test\\', paired = TRUE, method.args = list(alternative = \\'greater\\')) +\\n  theme(plot.title = element_text(hjust = 0.5))\\npr_box\\n# ggsave(filename = \"figures\\\\\\\\box_norm_gLV_prauc.pdf\",\\n#   width = 20, height = 20, units = \"cm\")\\n'.\nR error message: 'Error in relevel.factor(as.factor(Norm_Method), \"None\") : \\n  \\'ref\\'必需是存在的层次'"
     ]
    }
   ],
   "source": [
    "%%R\n",
    "# result_df <- read.csv('data/results/normalization_with_ref.csv')\n",
    "result_df <- read.csv('data/results/normalization_no_ref.csv')\n",
    "result_df <- result_df %>% filter(`Method` == 'gLV')\n",
    "result_df$Norm <- with(result_df, relevel(as.factor(`Norm.Method`), \"None\"))\n",
    "methods = unique(result_df$Norm)\n",
    "my_comparisons = to_list(for (method in methods) if (method != 'None') c(method, 'None'))\n",
    "my_palette <- brewer.pal(n = length(methods), name = \"Paired\")\n",
    "pr_box <- ggplot(result_df, aes(x=Norm, y=average_precision_score, color=Norm)) +\n",
    "  geom_boxplot() +\n",
    "  geom_jitter(width = 0.2, size = 1, alpha = 0.3) +\n",
    "  scale_fill_brewer(palette = \"Paired\") +\n",
    "  scale_y_continuous(breaks = seq(0, 1, 0.1), labels = seq(0,1,0.1)) +\n",
    "  theme_bw() +\n",
    "  theme(legend.position = \"none\") +\n",
    "  labs(x = \"Normalization Method\", y = \"AUPRC\") +\n",
    "  # ggtitle(\"Absolute abundance\") +\n",
    "  stat_compare_means(comparisons = my_comparisons, label = \"p.signif\", method = 'wilcox.test', paired = TRUE, method.args = list(alternative = 'greater')) +\n",
    "  theme(plot.title = element_text(hjust = 0.5))\n",
    "pr_box\n",
    "# ggsave(filename = \"figures\\\\box_norm_gLV_prauc.pdf\",\n",
    "#   width = 20, height = 20, units = \"cm\")"
   ]
  },
  {
   "cell_type": "code",
   "execution_count": 12,
   "metadata": {},
   "outputs": [
    {
     "name": "stderr",
     "output_type": "stream",
     "text": [
      "c:\\Users\\dorasir\\anaconda3\\envs\\net-simu\\lib\\site-packages\\rpy2\\robjects\\pandas2ri.py:56: UserWarning: DataFrame contains duplicated elements in the index, which will lead to loss of the row names in the resulting data.frame\n",
      "  warnings.warn('DataFrame contains duplicated elements in the index, '\n"
     ]
    }
   ],
   "source": [
    "%%R -i result_df\n",
    "result_df <- result_df %>% filter(`Method` == 'gLV')\n",
    "result_df$Norm <- with(result_df, relevel(as.factor(`Norm Method`), \"None\"))\n",
    "methods = unique(result_df$Norm)\n",
    "my_comparisons = to_list(for (method in methods) if (method != 'None') c(method, 'None'))\n",
    "my_palette <- brewer.pal(n = length(methods), name = \"Paired\")\n",
    "pr_box <- ggplot(result_df, aes(x=Norm, y=average_precision_score, color=Norm)) +\n",
    "  geom_boxplot() +\n",
    "  geom_jitter(width = 0.2, size = 1, alpha = 0.3) +\n",
    "  scale_fill_brewer(palette = \"Paired\") +\n",
    "  scale_y_continuous(breaks = seq(0, 1, 0.1), labels = seq(0,1,0.1)) +\n",
    "  theme_bw() +\n",
    "  theme(legend.position = \"none\") +\n",
    "  labs(x = \"Normalization Method\", y = \"AUPRC\") +\n",
    "  # ggtitle(\"Absolute abundance\") +\n",
    "  stat_compare_means(comparisons = my_comparisons, label = \"p.signif\", method = 'wilcox.test', paired = TRUE, method.args = list(alternative = 'greater')) +\n",
    "  theme(plot.title = element_text(hjust = 0.5))\n",
    "pr_box\n",
    "ggsave(filename = \"figures\\\\box_norm_gLV_prauc_ref.pdf\",\n",
    "  width = 20, height = 20, units = \"cm\")"
   ]
  },
  {
   "cell_type": "code",
   "execution_count": 83,
   "metadata": {},
   "outputs": [],
   "source": [
    "%%capture\n",
    "result_df = pd.DataFrame(columns=[\"Method\", \"run\", \"average_precision_score\", \"roc_auc_score\", \"abs_rel\"])\n",
    "repeat = 500\n",
    "rng = np.random.default_rng(42)\n",
    "\n",
    "org = []\n",
    "sampled = []\n",
    "for i in range(repeat):\n",
    "    seed = rng.integers(0, 2 ** 32 - 1)\n",
    "    adj, M = simulation.gen_graph(n_vertices, avg_degree, network_type, interaction_type, max_interaction_strength=1, seed=seed)\n",
    "    z, x, abd, _, _ = simulation.simulate_glv(\n",
    "        time_points=time_points,\n",
    "        time_step=time_step,\n",
    "        downsample=1,\n",
    "        noise_var=0,\n",
    "        adj=adj,\n",
    "        M=M,\n",
    "        seed=seed,\n",
    "    )\n",
    "    score_df = evaluation(adj, z, evaluation_func, metrics=metrics, verbose=False)\n",
    "    score_df[\"run\"] = i\n",
    "    score_df[\"abs_rel\"] = \"org\"\n",
    "    result_df = result_df.append(score_df, ignore_index=True)\n",
    "\n",
    "    score_df = evaluation(adj, z, evaluation_func, metrics=metrics, verbose=False)\n",
    "    score_df[\"run\"] = i\n",
    "    score_df[\"abs_rel\"] = \"norm\"\n",
    "    result_df = result_df.append(score_df, ignore_index=True)\n",
    "\n",
    "    score_df = evaluation(adj, abd, evaluation_func, metrics=metrics, verbose=False)\n",
    "    score_df[\"run\"] = i\n",
    "    score_df[\"abs_rel\"] = \"resampled\"\n",
    "    result_df = result_df.append(score_df, ignore_index=True)\n",
    "a = result_df[result_df[\"abs_rel\"] == \"org\"]['average_precision_score']\n",
    "b = result_df[result_df[\"abs_rel\"] == \"norm\"]['average_precision_score']\n",
    "c = result_df[result_df[\"abs_rel\"] == \"resampled\"]['average_precision_score']"
   ]
  },
  {
   "cell_type": "code",
   "execution_count": 6,
   "metadata": {},
   "outputs": [],
   "source": [
    "%%capture\n",
    "evaluation_func = [correlation_score, spearman_score, pcor_score, pspe_score, sparcc_score, speic_score, baseline_score]\n",
    "normalization_methods = [clr_transform, css_transform, tmm_transform, tmmwsp_transform, rle_transform, gmpr_transform, logcpm_transform, ast_transform, blom_transform, vst_transform, npn_transform, qn_transform, fsqn_trasform, bmc_transform, limma_transform, combat_transform, no_transform]\n",
    "result_df = pd.DataFrame(columns=[\"Method\", \"run\", \"average_precision_score\", \"roc_auc_score\", \"Norm_Method\"])\n",
    "repeat = 100\n",
    "rng = np.random.default_rng(42)\n",
    "\n",
    "for i in range(repeat):\n",
    "    seed = rng.integers(0, 2 ** 32 - 1)\n",
    "    adj, M = simulation.gen_graph(n_vertices, avg_degree, network_type, interaction_type, max_interaction_strength=1, seed=seed)\n",
    "    z, x, abd, _, _ = simulation.simulate_glv(\n",
    "        time_points=time_points,\n",
    "        time_step=time_step,\n",
    "        downsample=1,\n",
    "        noise_var=0,\n",
    "        adj=adj,\n",
    "        M=M,\n",
    "        seed=seed,\n",
    "    )\n",
    "    for norm_method in normalization_methods:\n",
    "        try:\n",
    "            # norm_abd = norm_method(abd)\n",
    "            norm_abd = norm_method(z, abd)\n",
    "        except:\n",
    "            norm_abd = abd\n",
    "        scores_df = evaluation(adj, norm_abd, evaluation_func, metrics=metrics)\n",
    "        scores_df['Norm_Method'] = norm_method._method\n",
    "        scores_df['run'] = i\n",
    "        result_df = result_df.append(scores_df)\n",
    "    result_df.to_csv(\"data/results/normalization_complete.csv\")"
   ]
  },
  {
   "cell_type": "code",
   "execution_count": 19,
   "metadata": {},
   "outputs": [],
   "source": [
    "%%R\n",
    "source('src\\\\normalization\\\\normalization.R')"
   ]
  },
  {
   "cell_type": "code",
   "execution_count": 56,
   "metadata": {},
   "outputs": [
    {
     "name": "stderr",
     "output_type": "stream",
     "text": [
      "R[write to console]: Default value being used.\n",
      "\n"
     ]
    }
   ],
   "source": [
    "%%R\n",
    "library(metagenomeSeq)\n",
    "css.func <- function(tab){\n",
    "      tab_mrexperiment <- newMRexperiment(tab)\n",
    "      tab_css <- cumNorm(tab_mrexperiment)\n",
    "      tab_norm <- MRcounts(tab_css, norm=T)\n",
    "      as.data.frame(tab_norm)\n",
    "    }\n",
    "css <- css.func(abd)\n",
    "write.csv(css, 'data\\\\css.csv', row.names=FALSE)"
   ]
  },
  {
   "cell_type": "code",
   "execution_count": 40,
   "metadata": {},
   "outputs": [
    {
     "name": "stderr",
     "output_type": "stream",
     "text": [
      "R[write to console]: \n",
      "载入程辑包：'edgeR'\n",
      "\n",
      "\n",
      "R[write to console]: The following object is masked from 'package:metagenomeSeq':\n",
      "\n",
      "    calcNormFactors\n",
      "\n",
      "\n"
     ]
    }
   ],
   "source": [
    "%%R\n",
    "library(edgeR)\n",
    "logcpm <- cpm(abd, log=TRUE)\n",
    "write.csv(logcpm, 'logcpm.csv', row.names=FALSE)"
   ]
  },
  {
   "cell_type": "code",
   "execution_count": 60,
   "metadata": {},
   "outputs": [],
   "source": [
    "%%R\n",
    "tmm.func <- function(tab){\n",
    "      tab <- as.matrix(tab)\n",
    "      tab_dge <- DGEList(counts=tab)\n",
    "      tab_tmm_dge <- calcNormFactors(tab_dge, method=\"TMMwsp\")\n",
    "      tab_norm <- cpm(tab_tmm_dge)\n",
    "      as.data.frame(tab_norm)\n",
    "    }\n",
    "tmm <- tmm.func(abd)\n",
    "write.csv(tmm, 'tmm.csv', row.names=FALSE)"
   ]
  },
  {
   "cell_type": "code",
   "execution_count": 57,
   "metadata": {},
   "outputs": [],
   "source": [
    "abd_combat = np.genfromtxt('combat.csv', delimiter=',', skip_header=1, usecols=range(1, abd.shape[1] + 1))\n",
    "abd_css = np.genfromtxt('css.csv', delimiter=',', skip_header=1,)\n",
    "abd_logcpm = np.genfromtxt('logcpm.csv', delimiter=',', skip_header=1,)"
   ]
  },
  {
   "cell_type": "code",
   "execution_count": 61,
   "metadata": {},
   "outputs": [],
   "source": [
    "abd_tmm = np.genfromtxt('tmm.csv', delimiter=',', skip_header=1,)"
   ]
  },
  {
   "cell_type": "code",
   "execution_count": 43,
   "metadata": {},
   "outputs": [],
   "source": [
    "abd_clr = clr_transform(abd)"
   ]
  },
  {
   "cell_type": "code",
   "execution_count": 58,
   "metadata": {},
   "outputs": [
    {
     "data": {
      "text/plain": [
       "0.6944444444444444"
      ]
     },
     "execution_count": 58,
     "metadata": {},
     "output_type": "execute_result"
    }
   ],
   "source": [
    "correlation_score(abd_css.T, adj)"
   ]
  },
  {
   "cell_type": "code",
   "execution_count": 62,
   "metadata": {},
   "outputs": [
    {
     "data": {
      "text/plain": [
       "0.6116666666666666"
      ]
     },
     "execution_count": 62,
     "metadata": {},
     "output_type": "execute_result"
    }
   ],
   "source": [
    "correlation_score(abd_tmm.T, adj)"
   ]
  },
  {
   "cell_type": "code",
   "execution_count": 48,
   "metadata": {},
   "outputs": [
    {
     "data": {
      "text/plain": [
       "0.5657142857142857"
      ]
     },
     "execution_count": 48,
     "metadata": {},
     "output_type": "execute_result"
    }
   ],
   "source": [
    "correlation_score(np.arcsin(np.sqrt(abd)).T, adj)"
   ]
  },
  {
   "cell_type": "code",
   "execution_count": 59,
   "metadata": {},
   "outputs": [
    {
     "name": "stdout",
     "output_type": "stream",
     "text": [
      "0.46571428571428575\n",
      "0.5222222222222221\n"
     ]
    }
   ],
   "source": [
    "print(correlation_score(abd.T, adj))\n",
    "print(correlation_score(abd_combat.T, adj))"
   ]
  },
  {
   "cell_type": "code",
   "execution_count": 34,
   "metadata": {},
   "outputs": [
    {
     "name": "stdout",
     "output_type": "stream",
     "text": [
      "0.7196063792132975\n"
     ]
    },
    {
     "name": "stderr",
     "output_type": "stream",
     "text": [
      "Warning: maximum number of iterations (10000) reached\n"
     ]
    },
    {
     "data": {
      "text/plain": [
       "0.5029018820685488"
      ]
     },
     "execution_count": 34,
     "metadata": {},
     "output_type": "execute_result"
    }
   ],
   "source": [
    "clv_score(abd.T, adj)"
   ]
  },
  {
   "cell_type": "code",
   "execution_count": 39,
   "metadata": {},
   "outputs": [
    {
     "name": "stdout",
     "output_type": "stream",
     "text": [
      "0.4590350877192983\n",
      "0.5105934343434344\n"
     ]
    }
   ],
   "source": [
    "print(glv_score(abd.T, adj))\n",
    "# print(glv_score(abd_combat.T, adj))\n",
    "print(glv_score(abd_css.T, adj))"
   ]
  },
  {
   "cell_type": "code",
   "execution_count": 46,
   "metadata": {},
   "outputs": [
    {
     "data": {
      "text/plain": [
       "500.0"
      ]
     },
     "execution_count": 46,
     "metadata": {},
     "output_type": "execute_result"
    }
   ],
   "source": [
    "abd.sum()"
   ]
  },
  {
   "attachments": {},
   "cell_type": "markdown",
   "metadata": {},
   "source": [
    "Test different normalization methods"
   ]
  },
  {
   "cell_type": "code",
   "execution_count": null,
   "metadata": {},
   "outputs": [],
   "source": []
  }
 ],
 "metadata": {
  "kernelspec": {
   "display_name": "net-simu",
   "language": "python",
   "name": "python3"
  },
  "language_info": {
   "codemirror_mode": {
    "name": "ipython",
    "version": 3
   },
   "file_extension": ".py",
   "mimetype": "text/x-python",
   "name": "python",
   "nbconvert_exporter": "python",
   "pygments_lexer": "ipython3",
   "version": "3.10.9"
  },
  "orig_nbformat": 4
 },
 "nbformat": 4,
 "nbformat_minor": 2
}
