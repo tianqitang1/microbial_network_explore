{
 "cells": [
  {
   "attachments": {},
   "cell_type": "markdown",
   "metadata": {},
   "source": [
    "Load Jupyter modules"
   ]
  },
  {
   "cell_type": "code",
   "execution_count": 3,
   "metadata": {},
   "outputs": [
    {
     "name": "stdout",
     "output_type": "stream",
     "text": [
      "The autoreload extension is already loaded. To reload it, use:\n",
      "  %reload_ext autoreload\n",
      "The rpy2.ipython extension is already loaded. To reload it, use:\n",
      "  %reload_ext rpy2.ipython\n"
     ]
    }
   ],
   "source": [
    "%load_ext autoreload\n",
    "%autoreload 2\n",
    "%load_ext rpy2.ipython"
   ]
  },
  {
   "attachments": {},
   "cell_type": "markdown",
   "metadata": {},
   "source": [
    "Setup R plotting"
   ]
  },
  {
   "cell_type": "code",
   "execution_count": 4,
   "metadata": {},
   "outputs": [
    {
     "name": "stderr",
     "output_type": "stream",
     "text": [
      "R[write to console]: \n",
      "载入程辑包：'dplyr'\n",
      "\n",
      "\n",
      "R[write to console]: The following objects are masked from 'package:stats':\n",
      "\n",
      "    filter, lag\n",
      "\n",
      "\n",
      "R[write to console]: The following objects are masked from 'package:base':\n",
      "\n",
      "    intersect, setdiff, setequal, union\n",
      "\n",
      "\n"
     ]
    },
    {
     "name": "stdout",
     "output_type": "stream",
     "text": [
      "── Attaching core tidyverse packages ──────────────────────── tidyverse 2.0.0 ──\n",
      "✔ forcats   1.0.0     ✔ readr     2.1.4\n",
      "✔ ggplot2   3.4.2     ✔ stringr   1.5.0\n",
      "✔ lubridate 1.9.2     ✔ tibble    3.2.1\n",
      "✔ purrr     1.0.1     ✔ tidyr     1.3.0\n",
      "── Conflicts ────────────────────────────────────────── tidyverse_conflicts() ──\n",
      "✖ dplyr::filter() masks stats::filter()\n",
      "✖ dplyr::lag()    masks stats::lag()\n",
      "ℹ Use the conflicted package (<http://conflicted.r-lib.org/>) to force all conflicts to become errors\n"
     ]
    },
    {
     "name": "stderr",
     "output_type": "stream",
     "text": [
      "R[write to console]: 载入需要的程辑包：carData\n",
      "\n",
      "R[write to console]: \n",
      "载入程辑包：'car'\n",
      "\n",
      "\n",
      "R[write to console]: The following object is masked from 'package:purrr':\n",
      "\n",
      "    some\n",
      "\n",
      "\n",
      "R[write to console]: The following object is masked from 'package:dplyr':\n",
      "\n",
      "    recode\n",
      "\n",
      "\n",
      "R[write to console]: \n",
      "载入程辑包：'rstatix'\n",
      "\n",
      "\n",
      "R[write to console]: The following object is masked from 'package:stats':\n",
      "\n",
      "    filter\n",
      "\n",
      "\n"
     ]
    }
   ],
   "source": [
    "%%R\n",
    "# Load R libraries\n",
    "library(dplyr)\n",
    "library(tidyverse)\n",
    "library(RColorBrewer)\n",
    "library(patchwork)\n",
    "library(car)\n",
    "library(ggpubr)\n",
    "library(rstatix)\n",
    "library(xtable)\n",
    "library(comprehenr)\n",
    "setwd('d:\\\\microbial_network\\\\microbial_network_explore')"
   ]
  },
  {
   "attachments": {},
   "cell_type": "markdown",
   "metadata": {},
   "source": [
    "Load Python modules"
   ]
  },
  {
   "cell_type": "code",
   "execution_count": 49,
   "metadata": {},
   "outputs": [],
   "source": [
    "import numpy as np\n",
    "import os\n",
    "from sklearn.metrics import average_precision_score, roc_auc_score\n",
    "import pandas as pd\n",
    "from utils.transformation import clr_transform, alr_transform\n",
    "from matplotlib import pyplot as plt\n",
    "from itertools import product\n",
    "from tqdm import tqdm\n",
    "import pandas as pd\n",
    "import seaborn as sns\n",
    "from utils import simulation\n",
    "import rpy2.robjects as robjects\n",
    "import seaborn as sns\n",
    "from utils.generalized_lotka_volterra import GeneralizedLotkaVolterra\n",
    "from utils.compositional_lotka_volterra import CompositionalLotkaVolterra\n",
    "from scipy.stats import ttest_rel\n",
    "import utils.evaluations as ev\n",
    "from utils.evaluations import correlation_score, spearman_score, precision_matrix_score, clv_score, glv_score, pcor_score, pspe_score, sparcc_score, speic_score, cclasso_score, baseline_score\n",
    "from typing import List\n",
    "import seaborn as sns\n",
    "from utils.transformation import *\n",
    "\n",
    "# Make sure the working directory is correct\n",
    "os.chdir('d:\\\\microbial_network\\\\microbial_network_explore')"
   ]
  },
  {
   "cell_type": "code",
   "execution_count": 6,
   "metadata": {},
   "outputs": [],
   "source": [
    "# Define function for evaluation\n",
    "def evaluation(adj, abundance, evaluation_func, metrics=average_precision_score, verbose=False, f=None):\n",
    "    scores = []\n",
    "    for func in evaluation_func:\n",
    "        try:\n",
    "            scores.append([func._method, *func(abundance, adj, metrics=metrics, verbose=verbose)])\n",
    "        except:\n",
    "            scores.append([func._method, *[0] * len(metrics)])\n",
    "        if f:\n",
    "            f.write(f\"{func._method}\\n\")\n",
    "            f.flush()\n",
    "    columns = ['Method']\n",
    "    columns.extend([metric.__name__ for metric in metrics] if isinstance(metrics, List) else [metrics.__name__])\n",
    "    scores_df = pd.DataFrame(scores, columns=columns)\n",
    "    return scores_df"
   ]
  },
  {
   "attachments": {},
   "cell_type": "markdown",
   "metadata": {},
   "source": [
    "Set up the parameters for the first simulation"
   ]
  },
  {
   "cell_type": "code",
   "execution_count": 73,
   "metadata": {},
   "outputs": [],
   "source": [
    "# Set up parameters\n",
    "n_vertices = 20\n",
    "avg_degree = 5\n",
    "network_type = 'random'\n",
    "interaction_type = 'random'\n",
    "max_interaction_strength = 1\n",
    "time_points = 500\n",
    "time_step = 0.01\n",
    "downsample = 1\n",
    "noise_var = 1e-3\n",
    "\n",
    "# evaluation_func = [correlation_score, spearman_score, clv_score, glv_score, pcor_score, pspe_score, sparcc_score, speic_score, baseline_score]\n",
    "# evaluation_func = [correlation_score, spearman_score, pcor_score, pspe_score, sparcc_score, speic_score, baseline_score]\n",
    "evaluation_func = [correlation_score, ]\n",
    "metrics = [average_precision_score, roc_auc_score]\n",
    "\n",
    "normalization_methods = [css_transform, tmm_transform, tmmwsp_transform, rle_transform, gmpr_transform, logcpm_transform, ast_transform, blom_transform, vst_transform, npn_transform, no_transform]"
   ]
  },
  {
   "cell_type": "code",
   "execution_count": 76,
   "metadata": {},
   "outputs": [],
   "source": [
    "%%capture\n",
    "result_df = pd.DataFrame(columns=[\"Method\", \"run\", \"average_precision_score\", \"roc_auc_score\", \"Norm Method\"])\n",
    "repeat = 50\n",
    "rng = np.random.default_rng(42)\n",
    "\n",
    "for i in range(repeat):\n",
    "    seed = rng.integers(0, 2 ** 32 - 1)\n",
    "    adj, M = simulation.gen_graph(n_vertices, avg_degree, network_type, interaction_type, max_interaction_strength=1, seed=seed)\n",
    "    z, x, abd, _, _ = simulation.simulate_glv(\n",
    "        time_points=time_points,\n",
    "        time_step=time_step,\n",
    "        downsample=1,\n",
    "        noise_var=0,\n",
    "        adj=adj,\n",
    "        M=M,\n",
    "        seed=seed,\n",
    "    )\n",
    "    for norm_method in normalization_methods:\n",
    "        try:\n",
    "            norm_abd = norm_method(abd)\n",
    "            # norm_abd = norm_method(z, abd)\n",
    "        except:\n",
    "            norm_abd = abd\n",
    "        scores_df = evaluation(adj, norm_abd, evaluation_func, metrics=metrics)\n",
    "        scores_df['Norm Method'] = norm_method._method\n",
    "        scores_df['run'] = i\n",
    "        result_df = result_df.append(scores_df)"
   ]
  },
  {
   "cell_type": "code",
   "execution_count": 77,
   "metadata": {},
   "outputs": [
    {
     "name": "stderr",
     "output_type": "stream",
     "text": [
      "c:\\Users\\dorasir\\anaconda3\\envs\\net-simu\\lib\\site-packages\\rpy2\\robjects\\pandas2ri.py:56: UserWarning: DataFrame contains duplicated elements in the index, which will lead to loss of the row names in the resulting data.frame\n",
      "  warnings.warn('DataFrame contains duplicated elements in the index, '\n"
     ]
    },
    {
     "data": {
      "image/png": "[encoded data removed]",
      "text/plain": [
       "<IPython.core.display.Image object>"
      ]
     },
     "metadata": {},
     "output_type": "display_data"
    }
   ],
   "source": [
    "%%R -i result_df\n",
    "result_df$Norm <- with(result_df, relevel(as.factor(`Norm Method`), \"None\"))\n",
    "methods = unique(result_df$Norm)\n",
    "my_comparisons = to_list(for (method in methods) if (method != 'None') c(method, 'None'))\n",
    "# blind_colors <- c(\"#E69F00\", \"#56B4E9\", \"#009E73\", \"#F0E442\", \"#0072B2\", \"#D55E00\", \"#CC79A7\", \"#000000\")\n",
    "pr_box <- ggplot(result_df, aes(x=Norm, y=average_precision_score, fill=Norm)) +\n",
    "  geom_boxplot() +\n",
    "#   geom_bar()+\n",
    "  geom_jitter(width = 0.2, size = 1, alpha = 0.3) +\n",
    "  # scale_fill_brewer(palette = \"Set1\") +\n",
    "    # scale_color_manual(values = blind_colors) +\n",
    "  scale_fill_manual(values = c(\"#E41A1C\", \"#377EB8\", \"#4DAF4A\", \"#984EA3\", \"#FF7F00\", \"#FFFF33\", \"#A65628\", \"#F781BF\", \"#999999\", \"#66C2A5\", \"#FC8D62\")) +\n",
    "  scale_y_continuous(breaks = seq(0, 1, 0.1), labels = seq(0,1,0.1)) +\n",
    "  theme_bw() +\n",
    "  # theme(legend.position = \"none\") +\n",
    "  labs(x = \"Normalization Method\", y = \"Average Precision Score\") +\n",
    "  # ggtitle(\"Absolute abundance\") +\n",
    "  stat_compare_means(comparisons = my_comparisons, label = \"p.signif\", method = 'wilcox.test', paired = TRUE, method.args = list(alternative = 'greater')) +\n",
    "  theme(plot.title = element_text(hjust = 0.5))\n",
    "pr_box"
   ]
  },
  {
   "cell_type": "code",
   "execution_count": null,
   "metadata": {},
   "outputs": [],
   "source": [
    "%%capture\n",
    "normalization_methods = [qn_transform, fsqn_trasform, bmc_transform, no_transform]\n",
    "result_df = pd.DataFrame(columns=[\"Method\", \"run\", \"average_precision_score\", \"roc_auc_score\", \"Norm Method\"])\n",
    "repeat = 50\n",
    "rng = np.random.default_rng(42)\n",
    "\n",
    "for i in range(repeat):\n",
    "    seed = rng.integers(0, 2 ** 32 - 1)\n",
    "    adj, M = simulation.gen_graph(n_vertices, avg_degree, network_type, interaction_type, max_interaction_strength=1, seed=seed)\n",
    "    z, x, abd, _, _ = simulation.simulate_glv(\n",
    "        time_points=time_points,\n",
    "        time_step=time_step,\n",
    "        downsample=1,\n",
    "        noise_var=0,\n",
    "        adj=adj,\n",
    "        M=M,\n",
    "        seed=seed,\n",
    "    )\n",
    "    for norm_method in normalization_methods:\n",
    "        try:\n",
    "            # norm_abd = norm_method(abd)\n",
    "            norm_abd = norm_method(z, abd)\n",
    "        except:\n",
    "            norm_abd = abd\n",
    "        scores_df = evaluation(adj, norm_abd, evaluation_func, metrics=metrics)\n",
    "        scores_df['Norm Method'] = norm_method._method\n",
    "        scores_df['run'] = i\n",
    "        result_df = result_df.append(scores_df)"
   ]
  },
  {
   "cell_type": "code",
   "execution_count": null,
   "metadata": {},
   "outputs": [],
   "source": [
    "%%R -i result_df\n",
    "result_df$Norm <- with(result_df, relevel(as.factor(`Norm Method`), \"None\"))\n",
    "methods = unique(result_df$Norm)\n",
    "my_comparisons = to_list(for (method in methods) if (method != 'None') c(method, 'None'))\n",
    "# blind_colors <- c(\"#E69F00\", \"#56B4E9\", \"#009E73\", \"#F0E442\", \"#0072B2\", \"#D55E00\", \"#CC79A7\", \"#000000\")\n",
    "pr_box <- ggplot(result_df, aes(x=Norm, y=average_precision_score, fill=Norm)) +\n",
    "  geom_boxplot() +\n",
    "#   geom_bar()+\n",
    "  geom_jitter(width = 0.2, size = 1, alpha = 0.3) +\n",
    "  # scale_fill_brewer(palette = \"Set1\") +\n",
    "    # scale_color_manual(values = blind_colors) +\n",
    "  scale_fill_manual(values = c(\"#E41A1C\", \"#377EB8\", \"#4DAF4A\", \"#984EA3\", \"#FF7F00\", \"#FFFF33\", \"#A65628\", \"#F781BF\", \"#999999\", \"#66C2A5\", \"#FC8D62\")) +\n",
    "  scale_y_continuous(breaks = seq(0, 1, 0.1), labels = seq(0,1,0.1)) +\n",
    "  theme_bw() +\n",
    "  # theme(legend.position = \"none\") +\n",
    "  labs(x = \"Normalization Method\", y = \"Average Precision Score\") +\n",
    "  # ggtitle(\"Absolute abundance\") +\n",
    "  stat_compare_means(comparisons = my_comparisons, label = \"p.signif\", method = 'wilcox.test', paired = TRUE, method.args = list(alternative = 'greater')) +\n",
    "  theme(plot.title = element_text(hjust = 0.5))\n",
    "pr_box"
   ]
  },
  {
   "cell_type": "code",
   "execution_count": 67,
   "metadata": {},
   "outputs": [],
   "source": [
    "%%capture\n",
    "result_df = pd.DataFrame(columns=[\"Method\", \"run\", \"average_precision_score\", \"roc_auc_score\", \"abs_rel\"])\n",
    "repeat = 200\n",
    "rng = np.random.default_rng(42)\n",
    "\n",
    "org = []\n",
    "sampled = []\n",
    "for i in range(repeat):\n",
    "    seed = rng.integers(0, 2 ** 32 - 1)\n",
    "    adj, M = simulation.gen_graph(n_vertices, avg_degree, network_type, interaction_type, max_interaction_strength=1, seed=seed)\n",
    "    z, x, abd, _, _ = simulation.simulate_glv(\n",
    "        time_points=time_points,\n",
    "        time_step=time_step,\n",
    "        downsample=1,\n",
    "        noise_var=0,\n",
    "        adj=adj,\n",
    "        M=M,\n",
    "        seed=seed,\n",
    "    )\n",
    "    score_df = evaluation(adj, z, evaluation_func, metrics=metrics, verbose=False)\n",
    "    score_df[\"run\"] = i\n",
    "    score_df[\"abs_rel\"] = \"org\"\n",
    "    result_df = result_df.append(score_df, ignore_index=True)\n",
    "\n",
    "    score_df = evaluation(adj, abd, evaluation_func, metrics=metrics, verbose=False)\n",
    "    score_df[\"run\"] = i\n",
    "    score_df[\"abs_rel\"] = \"resampled\"\n",
    "    result_df = result_df.append(score_df, ignore_index=True)\n",
    "a = result_df[result_df[\"abs_rel\"] == \"org\"]['average_precision_score']\n",
    "b = result_df[result_df[\"abs_rel\"] == \"resampled\"]['average_precision_score']"
   ]
  },
  {
   "cell_type": "code",
   "execution_count": 68,
   "metadata": {},
   "outputs": [
    {
     "data": {
      "text/plain": [
       "WilcoxonResult(statistic=12248.0, pvalue=0.0036598942908271995)"
      ]
     },
     "execution_count": 68,
     "metadata": {},
     "output_type": "execute_result"
    }
   ],
   "source": [
    "from scipy.stats import wilcoxon\n",
    "wilcoxon(a, b, alternative='greater')"
   ]
  },
  {
   "cell_type": "code",
   "execution_count": 19,
   "metadata": {},
   "outputs": [],
   "source": [
    "%%R\n",
    "source('src\\\\normalization\\\\normalization.R')"
   ]
  },
  {
   "cell_type": "code",
   "execution_count": 56,
   "metadata": {},
   "outputs": [
    {
     "name": "stderr",
     "output_type": "stream",
     "text": [
      "R[write to console]: Default value being used.\n",
      "\n"
     ]
    }
   ],
   "source": [
    "%%R\n",
    "library(metagenomeSeq)\n",
    "css.func <- function(tab){\n",
    "      tab_mrexperiment <- newMRexperiment(tab)\n",
    "      tab_css <- cumNorm(tab_mrexperiment)\n",
    "      tab_norm <- MRcounts(tab_css, norm=T)\n",
    "      as.data.frame(tab_norm)\n",
    "    }\n",
    "css <- css.func(abd)\n",
    "write.csv(css, 'data\\\\css.csv', row.names=FALSE)"
   ]
  },
  {
   "cell_type": "code",
   "execution_count": 40,
   "metadata": {},
   "outputs": [
    {
     "name": "stderr",
     "output_type": "stream",
     "text": [
      "R[write to console]: \n",
      "载入程辑包：'edgeR'\n",
      "\n",
      "\n",
      "R[write to console]: The following object is masked from 'package:metagenomeSeq':\n",
      "\n",
      "    calcNormFactors\n",
      "\n",
      "\n"
     ]
    }
   ],
   "source": [
    "%%R\n",
    "library(edgeR)\n",
    "logcpm <- cpm(abd, log=TRUE)\n",
    "write.csv(logcpm, 'logcpm.csv', row.names=FALSE)"
   ]
  },
  {
   "cell_type": "code",
   "execution_count": 60,
   "metadata": {},
   "outputs": [],
   "source": [
    "%%R\n",
    "tmm.func <- function(tab){\n",
    "      tab <- as.matrix(tab)\n",
    "      tab_dge <- DGEList(counts=tab)\n",
    "      tab_tmm_dge <- calcNormFactors(tab_dge, method=\"TMMwsp\")\n",
    "      tab_norm <- cpm(tab_tmm_dge)\n",
    "      as.data.frame(tab_norm)\n",
    "    }\n",
    "tmm <- tmm.func(abd)\n",
    "write.csv(tmm, 'tmm.csv', row.names=FALSE)"
   ]
  },
  {
   "cell_type": "code",
   "execution_count": 57,
   "metadata": {},
   "outputs": [],
   "source": [
    "abd_combat = np.genfromtxt('combat.csv', delimiter=',', skip_header=1, usecols=range(1, abd.shape[1] + 1))\n",
    "abd_css = np.genfromtxt('css.csv', delimiter=',', skip_header=1,)\n",
    "abd_logcpm = np.genfromtxt('logcpm.csv', delimiter=',', skip_header=1,)"
   ]
  },
  {
   "cell_type": "code",
   "execution_count": 61,
   "metadata": {},
   "outputs": [],
   "source": [
    "abd_tmm = np.genfromtxt('tmm.csv', delimiter=',', skip_header=1,)"
   ]
  },
  {
   "cell_type": "code",
   "execution_count": 43,
   "metadata": {},
   "outputs": [],
   "source": [
    "abd_clr = clr_transform(abd)"
   ]
  },
  {
   "cell_type": "code",
   "execution_count": 58,
   "metadata": {},
   "outputs": [
    {
     "data": {
      "text/plain": [
       "0.6944444444444444"
      ]
     },
     "execution_count": 58,
     "metadata": {},
     "output_type": "execute_result"
    }
   ],
   "source": [
    "correlation_score(abd_css.T, adj)"
   ]
  },
  {
   "cell_type": "code",
   "execution_count": 62,
   "metadata": {},
   "outputs": [
    {
     "data": {
      "text/plain": [
       "0.6116666666666666"
      ]
     },
     "execution_count": 62,
     "metadata": {},
     "output_type": "execute_result"
    }
   ],
   "source": [
    "correlation_score(abd_tmm.T, adj)"
   ]
  },
  {
   "cell_type": "code",
   "execution_count": 48,
   "metadata": {},
   "outputs": [
    {
     "data": {
      "text/plain": [
       "0.5657142857142857"
      ]
     },
     "execution_count": 48,
     "metadata": {},
     "output_type": "execute_result"
    }
   ],
   "source": [
    "correlation_score(np.arcsin(np.sqrt(abd)).T, adj)"
   ]
  },
  {
   "cell_type": "code",
   "execution_count": 59,
   "metadata": {},
   "outputs": [
    {
     "name": "stdout",
     "output_type": "stream",
     "text": [
      "0.46571428571428575\n",
      "0.5222222222222221\n"
     ]
    }
   ],
   "source": [
    "print(correlation_score(abd.T, adj))\n",
    "print(correlation_score(abd_combat.T, adj))"
   ]
  },
  {
   "cell_type": "code",
   "execution_count": 34,
   "metadata": {},
   "outputs": [
    {
     "name": "stdout",
     "output_type": "stream",
     "text": [
      "0.7196063792132975\n"
     ]
    },
    {
     "name": "stderr",
     "output_type": "stream",
     "text": [
      "Warning: maximum number of iterations (10000) reached\n"
     ]
    },
    {
     "data": {
      "text/plain": [
       "0.5029018820685488"
      ]
     },
     "execution_count": 34,
     "metadata": {},
     "output_type": "execute_result"
    }
   ],
   "source": [
    "clv_score(abd.T, adj)"
   ]
  },
  {
   "cell_type": "code",
   "execution_count": 39,
   "metadata": {},
   "outputs": [
    {
     "name": "stdout",
     "output_type": "stream",
     "text": [
      "0.4590350877192983\n",
      "0.5105934343434344\n"
     ]
    }
   ],
   "source": [
    "print(glv_score(abd.T, adj))\n",
    "# print(glv_score(abd_combat.T, adj))\n",
    "print(glv_score(abd_css.T, adj))"
   ]
  },
  {
   "cell_type": "code",
   "execution_count": 46,
   "metadata": {},
   "outputs": [
    {
     "data": {
      "text/plain": [
       "500.0"
      ]
     },
     "execution_count": 46,
     "metadata": {},
     "output_type": "execute_result"
    }
   ],
   "source": [
    "abd.sum()"
   ]
  },
  {
   "attachments": {},
   "cell_type": "markdown",
   "metadata": {},
   "source": [
    "Test different normalization methods"
   ]
  },
  {
   "cell_type": "code",
   "execution_count": null,
   "metadata": {},
   "outputs": [],
   "source": []
  }
 ],
 "metadata": {
  "kernelspec": {
   "display_name": "net-simu",
   "language": "python",
   "name": "python3"
  },
  "language_info": {
   "codemirror_mode": {
    "name": "ipython",
    "version": 3
   },
   "file_extension": ".py",
   "mimetype": "text/x-python",
   "name": "python",
   "nbconvert_exporter": "python",
   "pygments_lexer": "ipython3",
   "version": "3.10.9"
  },
  "orig_nbformat": 4
 },
 "nbformat": 4,
 "nbformat_minor": 2
}
