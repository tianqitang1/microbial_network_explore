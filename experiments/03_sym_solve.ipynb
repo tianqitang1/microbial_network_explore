{
 "cells": [
  {
   "cell_type": "code",
   "execution_count": 1,
   "metadata": {},
   "outputs": [],
   "source": [
    "from sympy import symbols, Function, Eq, simplify, Derivative, expand, solve, collect, apart\n",
    "\n",
    "# init_printing(use_unicode=True)"
   ]
  },
  {
   "cell_type": "code",
   "execution_count": 6,
   "metadata": {},
   "outputs": [],
   "source": [
    "# Define symbols\n",
    "t = symbols('t')\n",
    "X = Function('X')(t)\n",
    "Y = Function('Y')(t)\n",
    "r1, r2, b11, b12, b21, b22 = symbols('r1 r2 b11 b12 b21 b22')\n",
    "x = Function('x')(t)\n",
    "Nu = Function('Nu')(t)\n",
    "\n",
    "# Define the system of equations\n",
    "origSystem = [\n",
    "    Eq(X.diff(t), r1*X + b11*X**2 + b12*X*Y),\n",
    "    Eq(Y.diff(t), r2*Y + b21*X*Y + b22*Y**2)\n",
    "]\n",
    "# Convert the list of equalities to a dictionary\n",
    "origSystem_dict = {eq.lhs: eq.rhs for eq in origSystem}\n",
    "\n",
    "system = [\n",
    "    Eq(Derivative(x), Derivative(X/Nu)),\n",
    "    Eq(Derivative(Nu), Derivative(X) + Derivative(Y))\n",
    "]"
   ]
  },
  {
   "cell_type": "code",
   "execution_count": 23,
   "metadata": {},
   "outputs": [],
   "source": [
    "# Perform the substitutions and simplifications\n",
    "system[0] = system[0].subs(Derivative(Nu), Derivative(X) + Derivative(Y))\n",
    "newSystem = [simplify(expand(eq.subs(origSystem_dict))).doit() for eq in system]\n",
    "newSystem = [s.subs({X: Nu*x, Y: (1-x)*Nu}) for s in newSystem]\n",
    "newSystem = [expand(eq).doit() for eq in newSystem]"
   ]
  },
  {
   "cell_type": "code",
   "execution_count": 24,
   "metadata": {},
   "outputs": [
    {
     "data": {
      "text/latex": [
       "$\\displaystyle \\frac{d}{d t} x{\\left(t \\right)} = \\frac{\\mathrm{N}{\\left(t \\right)} \\frac{d}{d t} x{\\left(t \\right)} + x{\\left(t \\right)} \\frac{d}{d t} \\mathrm{N}{\\left(t \\right)}}{\\mathrm{N}{\\left(t \\right)}} - \\frac{x{\\left(t \\right)} \\frac{d}{d t} \\mathrm{N}{\\left(t \\right)}}{\\mathrm{N}{\\left(t \\right)}}$"
      ],
      "text/plain": [
       "Eq(Derivative(x(t), t), (Nu(t)*Derivative(x(t), t) + x(t)*Derivative(Nu(t), t))/Nu(t) - x(t)*Derivative(Nu(t), t)/Nu(t))"
      ]
     },
     "execution_count": 24,
     "metadata": {},
     "output_type": "execute_result"
    }
   ],
   "source": [
    "newSystem[0]"
   ]
  },
  {
   "cell_type": "code",
   "execution_count": 8,
   "metadata": {},
   "outputs": [
    {
     "ename": "IndexError",
     "evalue": "list index out of range",
     "output_type": "error",
     "traceback": [
      "\u001b[1;31m---------------------------------------------------------------------------\u001b[0m",
      "\u001b[1;31mIndexError\u001b[0m                                Traceback (most recent call last)",
      "Cell \u001b[1;32mIn[8], line 1\u001b[0m\n\u001b[1;32m----> 1\u001b[0m nSol \u001b[39m=\u001b[39m solve(newSystem[\u001b[39m0\u001b[39;49m], Nu)[\u001b[39m0\u001b[39;49m]\n\u001b[0;32m      2\u001b[0m nSol \u001b[39m=\u001b[39m simplify(nSol)\n\u001b[0;32m      3\u001b[0m dN \u001b[39m=\u001b[39m Derivative(nSol, t)\n",
      "\u001b[1;31mIndexError\u001b[0m: list index out of range"
     ]
    }
   ],
   "source": [
    "nSol = solve(newSystem[0], Nu)[0]\n",
    "nSol = simplify(nSol)\n",
    "dN = Derivative(nSol, t)\n",
    "\n",
    "ddxt = solve(newSystem[1].subs(dN).subs(nSol), Derivative(x, 2))[0]\n",
    "ddxt = simplify(ddxt)\n",
    "\n",
    "poly = collect(\n",
    "    (Derivative(x, 2) - ddxt) * ((1 - x)*x*(b22 + b12*(1 - x) - (b11 - b21 + b22)*x),\n",
    "    [Derivative(x, 2), Derivative(x), x])\n",
    ")\n",
    "poly = simplify(expand(apart(poly)))"
   ]
  },
  {
   "cell_type": "code",
   "execution_count": 6,
   "metadata": {},
   "outputs": [],
   "source": [
    "# Solve the first equation for Nu(t)\n",
    "nSol = solve(newSystem[0], Derivative(Nu, t))\n",
    "\n",
    "# Simplify the result\n",
    "nSol = [simplify(sol) for sol in nSol]"
   ]
  },
  {
   "cell_type": "code",
   "execution_count": 15,
   "metadata": {},
   "outputs": [
    {
     "name": "stdout",
     "output_type": "stream",
     "text": [
      "d               2                             \n",
      "──(X(t)) = b₁₁⋅X (t) + b₁₂⋅X(t)⋅Y(t) + r₁⋅X(t)\n",
      "dt                                            \n",
      "d               2                             \n",
      "──(X(t)) = b₁₁⋅X (t) + b₁₂⋅X(t)⋅Y(t) + r₁⋅X(t)\n",
      "dt                                            \n"
     ]
    }
   ],
   "source": [
    "pprint(system[0])\n",
    "pprint(origSystem[0])"
   ]
  },
  {
   "cell_type": "code",
   "execution_count": 11,
   "metadata": {},
   "outputs": [
    {
     "data": {
      "text/latex": [
       "$\\displaystyle \\alpha$"
      ],
      "text/plain": [
       "\\alpha"
      ]
     },
     "execution_count": 11,
     "metadata": {},
     "output_type": "execute_result"
    }
   ],
   "source": [
    "alpha = symbols(r'\\alpha')\n",
    "alpha"
   ]
  },
  {
   "cell_type": "code",
   "execution_count": 13,
   "metadata": {},
   "outputs": [
    {
     "data": {
      "text/latex": [
       "$\\displaystyle \\left(x + 1\\right)^{2}$"
      ],
      "text/plain": [
       "(x + 1)**2"
      ]
     },
     "execution_count": 13,
     "metadata": {},
     "output_type": "execute_result"
    }
   ],
   "source": [
    "factor(x**2 + 2*x + 1)"
   ]
  }
 ],
 "metadata": {
  "kernelspec": {
   "display_name": "net-simu",
   "language": "python",
   "name": "python3"
  },
  "language_info": {
   "codemirror_mode": {
    "name": "ipython",
    "version": 3
   },
   "file_extension": ".py",
   "mimetype": "text/x-python",
   "name": "python",
   "nbconvert_exporter": "python",
   "pygments_lexer": "ipython3",
   "version": "3.10.9"
  },
  "orig_nbformat": 4
 },
 "nbformat": 4,
 "nbformat_minor": 2
}
