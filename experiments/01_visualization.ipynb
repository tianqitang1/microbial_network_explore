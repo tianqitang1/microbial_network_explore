{
 "cells": [
  {
   "cell_type": "code",
   "execution_count": 15,
   "metadata": {
    "vscode": {
     "languageId": "r"
    }
   },
   "outputs": [
    {
     "name": "stderr",
     "output_type": "stream",
     "text": [
      "Warning message:\n",
      "\"程辑包'comprehenr'是用R版本4.2.3 来建造的\"\n"
     ]
    }
   ],
   "source": [
    "# Load used libraries\n",
    "library(dplyr)\n",
    "library(tidyverse)\n",
    "library(RColorBrewer)\n",
    "library(patchwork)\n",
    "library(car)\n",
    "library(ggpubr)\n",
    "library(rstatix)\n",
    "library(xtable)\n",
    "library(comprehenr)\n",
    "setwd('d:\\\\microbial_network\\\\microbial_network_explore')"
   ]
  },
  {
   "cell_type": "code",
   "execution_count": 6,
   "metadata": {
    "vscode": {
     "languageId": "r"
    }
   },
   "outputs": [],
   "source": [
    "# Read data\n",
    "result <- read.csv(\"data\\\\temp_results\\\\simulation_results.csv\")"
   ]
  },
  {
   "cell_type": "code",
   "execution_count": 11,
   "metadata": {
    "vscode": {
     "languageId": "r"
    }
   },
   "outputs": [
    {
     "data": {
      "text/html": [
       "<table class=\"dataframe\">\n",
       "<caption>A data.frame: 6 × 5</caption>\n",
       "<thead>\n",
       "\t<tr><th></th><th scope=col>Method</th><th scope=col>run</th><th scope=col>average_precision_score</th><th scope=col>roc_auc_score</th><th scope=col>abs_rel</th></tr>\n",
       "\t<tr><th></th><th scope=col>&lt;chr&gt;</th><th scope=col>&lt;int&gt;</th><th scope=col>&lt;dbl&gt;</th><th scope=col>&lt;dbl&gt;</th><th scope=col>&lt;chr&gt;</th></tr>\n",
       "</thead>\n",
       "<tbody>\n",
       "\t<tr><th scope=row>1</th><td>Pearson            </td><td>0</td><td>0.2096265</td><td>0.3914286</td><td>Absolute</td></tr>\n",
       "\t<tr><th scope=row>2</th><td>Precision Matrix   </td><td>0</td><td>0.2037431</td><td>0.4085714</td><td>Absolute</td></tr>\n",
       "\t<tr><th scope=row>3</th><td>cLV                </td><td>0</td><td>0.2007044</td><td>0.4506173</td><td>Absolute</td></tr>\n",
       "\t<tr><th scope=row>4</th><td>gLV                </td><td>0</td><td>0.4364256</td><td>0.5857143</td><td>Absolute</td></tr>\n",
       "\t<tr><th scope=row>5</th><td>Partial Correlation</td><td>0</td><td>0.4763446</td><td>0.6342857</td><td>Absolute</td></tr>\n",
       "\t<tr><th scope=row>6</th><td>SparCC             </td><td>0</td><td>0.2826851</td><td>0.3857143</td><td>Absolute</td></tr>\n",
       "</tbody>\n",
       "</table>\n"
      ],
      "text/latex": [
       "A data.frame: 6 × 5\n",
       "\\begin{tabular}{r|lllll}\n",
       "  & Method & run & average\\_precision\\_score & roc\\_auc\\_score & abs\\_rel\\\\\n",
       "  & <chr> & <int> & <dbl> & <dbl> & <chr>\\\\\n",
       "\\hline\n",
       "\t1 & Pearson             & 0 & 0.2096265 & 0.3914286 & Absolute\\\\\n",
       "\t2 & Precision Matrix    & 0 & 0.2037431 & 0.4085714 & Absolute\\\\\n",
       "\t3 & cLV                 & 0 & 0.2007044 & 0.4506173 & Absolute\\\\\n",
       "\t4 & gLV                 & 0 & 0.4364256 & 0.5857143 & Absolute\\\\\n",
       "\t5 & Partial Correlation & 0 & 0.4763446 & 0.6342857 & Absolute\\\\\n",
       "\t6 & SparCC              & 0 & 0.2826851 & 0.3857143 & Absolute\\\\\n",
       "\\end{tabular}\n"
      ],
      "text/markdown": [
       "\n",
       "A data.frame: 6 × 5\n",
       "\n",
       "| <!--/--> | Method &lt;chr&gt; | run &lt;int&gt; | average_precision_score &lt;dbl&gt; | roc_auc_score &lt;dbl&gt; | abs_rel &lt;chr&gt; |\n",
       "|---|---|---|---|---|---|\n",
       "| 1 | Pearson             | 0 | 0.2096265 | 0.3914286 | Absolute |\n",
       "| 2 | Precision Matrix    | 0 | 0.2037431 | 0.4085714 | Absolute |\n",
       "| 3 | cLV                 | 0 | 0.2007044 | 0.4506173 | Absolute |\n",
       "| 4 | gLV                 | 0 | 0.4364256 | 0.5857143 | Absolute |\n",
       "| 5 | Partial Correlation | 0 | 0.4763446 | 0.6342857 | Absolute |\n",
       "| 6 | SparCC              | 0 | 0.2826851 | 0.3857143 | Absolute |\n",
       "\n"
      ],
      "text/plain": [
       "  Method              run average_precision_score roc_auc_score abs_rel \n",
       "1 Pearson             0   0.2096265               0.3914286     Absolute\n",
       "2 Precision Matrix    0   0.2037431               0.4085714     Absolute\n",
       "3 cLV                 0   0.2007044               0.4506173     Absolute\n",
       "4 gLV                 0   0.4364256               0.5857143     Absolute\n",
       "5 Partial Correlation 0   0.4763446               0.6342857     Absolute\n",
       "6 SparCC              0   0.2826851               0.3857143     Absolute"
      ]
     },
     "metadata": {},
     "output_type": "display_data"
    }
   ],
   "source": [
    "result_absolute <- result %>%\n",
    "  filter(abs_rel == 'Absolute') %>%\n",
    "  {.}\n",
    "result_relative <- result %>%\n",
    "  filter(abs_rel == 'Relative') %>%\n",
    "  {.}\n",
    "head(result_absolute)"
   ]
  },
  {
   "cell_type": "code",
   "execution_count": 18,
   "metadata": {
    "vscode": {
     "languageId": "r"
    }
   },
   "outputs": [],
   "source": [
    "methods = unique(result$Method)\n",
    "my_comparisons = to_list(for (method in methods) if (method != 'Baseline') c(method, 'Baseline'))"
   ]
  },
  {
   "cell_type": "code",
   "execution_count": 19,
   "metadata": {
    "vscode": {
     "languageId": "r"
    }
   },
   "outputs": [
    {
     "data": {
      "text/html": [
       "<ol>\n",
       "\t<li><style>\n",
       ".list-inline {list-style: none; margin:0; padding: 0}\n",
       ".list-inline>li {display: inline-block}\n",
       ".list-inline>li:not(:last-child)::after {content: \"\\00b7\"; padding: 0 .5ex}\n",
       "</style>\n",
       "<ol class=list-inline><li>'Pearson'</li><li>'Baseline'</li></ol>\n",
       "</li>\n",
       "\t<li><style>\n",
       ".list-inline {list-style: none; margin:0; padding: 0}\n",
       ".list-inline>li {display: inline-block}\n",
       ".list-inline>li:not(:last-child)::after {content: \"\\00b7\"; padding: 0 .5ex}\n",
       "</style>\n",
       "<ol class=list-inline><li>'Precision Matrix'</li><li>'Baseline'</li></ol>\n",
       "</li>\n",
       "\t<li><style>\n",
       ".list-inline {list-style: none; margin:0; padding: 0}\n",
       ".list-inline>li {display: inline-block}\n",
       ".list-inline>li:not(:last-child)::after {content: \"\\00b7\"; padding: 0 .5ex}\n",
       "</style>\n",
       "<ol class=list-inline><li>'cLV'</li><li>'Baseline'</li></ol>\n",
       "</li>\n",
       "\t<li><style>\n",
       ".list-inline {list-style: none; margin:0; padding: 0}\n",
       ".list-inline>li {display: inline-block}\n",
       ".list-inline>li:not(:last-child)::after {content: \"\\00b7\"; padding: 0 .5ex}\n",
       "</style>\n",
       "<ol class=list-inline><li>'gLV'</li><li>'Baseline'</li></ol>\n",
       "</li>\n",
       "\t<li><style>\n",
       ".list-inline {list-style: none; margin:0; padding: 0}\n",
       ".list-inline>li {display: inline-block}\n",
       ".list-inline>li:not(:last-child)::after {content: \"\\00b7\"; padding: 0 .5ex}\n",
       "</style>\n",
       "<ol class=list-inline><li>'Partial Correlation'</li><li>'Baseline'</li></ol>\n",
       "</li>\n",
       "\t<li><style>\n",
       ".list-inline {list-style: none; margin:0; padding: 0}\n",
       ".list-inline>li {display: inline-block}\n",
       ".list-inline>li:not(:last-child)::after {content: \"\\00b7\"; padding: 0 .5ex}\n",
       "</style>\n",
       "<ol class=list-inline><li>'SparCC'</li><li>'Baseline'</li></ol>\n",
       "</li>\n",
       "\t<li><style>\n",
       ".list-inline {list-style: none; margin:0; padding: 0}\n",
       ".list-inline>li {display: inline-block}\n",
       ".list-inline>li:not(:last-child)::after {content: \"\\00b7\"; padding: 0 .5ex}\n",
       "</style>\n",
       "<ol class=list-inline><li>'SpiecEasi'</li><li>'Baseline'</li></ol>\n",
       "</li>\n",
       "</ol>\n"
      ],
      "text/latex": [
       "\\begin{enumerate}\n",
       "\\item \\begin{enumerate*}\n",
       "\\item 'Pearson'\n",
       "\\item 'Baseline'\n",
       "\\end{enumerate*}\n",
       "\n",
       "\\item \\begin{enumerate*}\n",
       "\\item 'Precision Matrix'\n",
       "\\item 'Baseline'\n",
       "\\end{enumerate*}\n",
       "\n",
       "\\item \\begin{enumerate*}\n",
       "\\item 'cLV'\n",
       "\\item 'Baseline'\n",
       "\\end{enumerate*}\n",
       "\n",
       "\\item \\begin{enumerate*}\n",
       "\\item 'gLV'\n",
       "\\item 'Baseline'\n",
       "\\end{enumerate*}\n",
       "\n",
       "\\item \\begin{enumerate*}\n",
       "\\item 'Partial Correlation'\n",
       "\\item 'Baseline'\n",
       "\\end{enumerate*}\n",
       "\n",
       "\\item \\begin{enumerate*}\n",
       "\\item 'SparCC'\n",
       "\\item 'Baseline'\n",
       "\\end{enumerate*}\n",
       "\n",
       "\\item \\begin{enumerate*}\n",
       "\\item 'SpiecEasi'\n",
       "\\item 'Baseline'\n",
       "\\end{enumerate*}\n",
       "\n",
       "\\end{enumerate}\n"
      ],
      "text/markdown": [
       "1. 1. 'Pearson'\n",
       "2. 'Baseline'\n",
       "\n",
       "\n",
       "\n",
       "2. 1. 'Precision Matrix'\n",
       "2. 'Baseline'\n",
       "\n",
       "\n",
       "\n",
       "3. 1. 'cLV'\n",
       "2. 'Baseline'\n",
       "\n",
       "\n",
       "\n",
       "4. 1. 'gLV'\n",
       "2. 'Baseline'\n",
       "\n",
       "\n",
       "\n",
       "5. 1. 'Partial Correlation'\n",
       "2. 'Baseline'\n",
       "\n",
       "\n",
       "\n",
       "6. 1. 'SparCC'\n",
       "2. 'Baseline'\n",
       "\n",
       "\n",
       "\n",
       "7. 1. 'SpiecEasi'\n",
       "2. 'Baseline'\n",
       "\n",
       "\n",
       "\n",
       "\n",
       "\n"
      ],
      "text/plain": [
       "[[1]]\n",
       "[1] \"Pearson\"  \"Baseline\"\n",
       "\n",
       "[[2]]\n",
       "[1] \"Precision Matrix\" \"Baseline\"        \n",
       "\n",
       "[[3]]\n",
       "[1] \"cLV\"      \"Baseline\"\n",
       "\n",
       "[[4]]\n",
       "[1] \"gLV\"      \"Baseline\"\n",
       "\n",
       "[[5]]\n",
       "[1] \"Partial Correlation\" \"Baseline\"           \n",
       "\n",
       "[[6]]\n",
       "[1] \"SparCC\"   \"Baseline\"\n",
       "\n",
       "[[7]]\n",
       "[1] \"SpiecEasi\" \"Baseline\" \n"
      ]
     },
     "metadata": {},
     "output_type": "display_data"
    }
   ],
   "source": [
    "my_comparisons"
   ]
  },
  {
   "cell_type": "code",
   "execution_count": 37,
   "metadata": {
    "vscode": {
     "languageId": "r"
    }
   },
   "outputs": [
    {
     "data": {
      "image/png": "[encoded data removed]",
      "text/plain": [
       "plot without title"
      ]
     },
     "metadata": {
      "image/png": {
       "height": 420,
       "width": 420
      }
     },
     "output_type": "display_data"
    }
   ],
   "source": [
    "blind_colors <- c(\"#E69F00\", \"#56B4E9\", \"#009E73\", \"#F0E442\", \"#0072B2\", \"#D55E00\", \"#CC79A7\", \"#000000\")\n",
    "ggplot(data = result_absolute, aes(x = Method, y=average_precision_score, color = Method, )) +\n",
    "  geom_boxplot() +\n",
    "  geom_jitter(width = 0.2, size = 1, alpha = 0.3) +\n",
    "  scale_fill_brewer(palette = \"Set1\") +\n",
    "    # scale_color_manual(values = blind_colors) +\n",
    "  theme_bw() +\n",
    "  theme(legend.position = \"none\") +\n",
    "  labs(x = \"Method\", y = \"Average Precision Score\") +\n",
    "  ggtitle(\"Absolute abundance\") +\n",
    "  stat_compare_means(comparisons = my_comparisons, label = \"p.signif\", method = 't.test') +\n",
    "  theme(plot.title = element_text(hjust = 0.5))\n",
    "ggsave(filename = \"figures\\\\pr_absolute_abundance.pdf\",\n",
    " width = 20, height = 20, units = \"cm\")"
   ]
  },
  {
   "cell_type": "code",
   "execution_count": 38,
   "metadata": {
    "vscode": {
     "languageId": "r"
    }
   },
   "outputs": [
    {
     "data": {
      "image/png": "[encoded data removed]",
      "text/plain": [
       "plot without title"
      ]
     },
     "metadata": {
      "image/png": {
       "height": 420,
       "width": 420
      }
     },
     "output_type": "display_data"
    }
   ],
   "source": [
    "ggplot(data = result_relative, aes(x = Method, y=average_precision_score, color = Method, )) +\n",
    "  geom_boxplot() +\n",
    "  geom_jitter(width = 0.2, size = 1, alpha = 0.3) +\n",
    "  scale_fill_brewer(palette = \"Set1\") +\n",
    "    # scale_color_manual(values = blind_colors) +\n",
    "  theme_bw() +\n",
    "  theme(legend.position = \"none\") +\n",
    "  labs(x = \"Method\", y = \"Average Precision Score\") +\n",
    "  ggtitle(\"Relative abundance\") +\n",
    "  stat_compare_means(comparisons = my_comparisons, label = \"p.signif\", method = 't.test', method.args = list(alternative = 'greater')) +\n",
    "  theme(plot.title = element_text(hjust = 0.5))\n",
    "ggsave(filename = \"figures\\\\pr_relative_abundance.pdf\",\n",
    " width = 20, height = 20, units = \"cm\")"
   ]
  },
  {
   "cell_type": "code",
   "execution_count": null,
   "metadata": {
    "vscode": {
     "languageId": "r"
    }
   },
   "outputs": [],
   "source": []
  }
 ],
 "metadata": {
  "kernelspec": {
   "display_name": "R",
   "language": "R",
   "name": "ir"
  },
  "language_info": {
   "codemirror_mode": "r",
   "file_extension": ".r",
   "mimetype": "text/x-r-source",
   "name": "R",
   "pygments_lexer": "r",
   "version": "4.2.2"
  },
  "orig_nbformat": 4
 },
 "nbformat": 4,
 "nbformat_minor": 2
}
