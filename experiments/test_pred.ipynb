{
 "cells": [
  {
   "cell_type": "code",
   "execution_count": 1,
   "metadata": {},
   "outputs": [],
   "source": [
    "import torch\n",
    "import torch.nn as nn\n",
    "import torch.nn.functional as F\n",
    "import numpy as np\n",
    "\n",
    "from neuralnet import DNN_pred, Abs_LV, Rel_LV\n",
    "from utils.evaluations import calc_nondiag_score\n",
    "from sklearn.metrics import average_precision_score, roc_auc_score\n",
    "from utils.simulation import simulate_glv\n",
    "\n",
    "device = torch.device('cuda' if torch.cuda.is_available() else 'cpu')"
   ]
  },
  {
   "cell_type": "code",
   "execution_count": 9,
   "metadata": {},
   "outputs": [],
   "source": [
    "abundance = np.load(r'D:\\microbial_network\\microbial_network_explore\\data\\simulated\\n20_k5_random_random_1.0_1000\\y.npy')\n",
    "abundance = abundance / abundance.sum(axis=1, keepdims=True)\n",
    "adj = np.load(r'D:\\microbial_network\\microbial_network_explore\\data\\simulated\\n20_k5_random_random_1.0_1000\\adj.npy')\n",
    "adj_norm = adj / adj.sum(axis=1, keepdims=True)\n",
    "M = np.load(r'D:\\microbial_network\\microbial_network_explore\\data\\simulated\\n20_k5_random_random_1.0_1000\\M.npy')"
   ]
  },
  {
   "cell_type": "code",
   "execution_count": 51,
   "metadata": {},
   "outputs": [
    {
     "name": "stdout",
     "output_type": "stream",
     "text": [
      "Node 'mgx' initialized\n",
      "Interaction 'mgx->mgx' added\n",
      "set m:(mgx)->(mgx):   0:10    0:10\n",
      "Added x0 vector to node mgx\n",
      "Added growth rates to node mgx\n",
      "Initialized\n",
      "Interaction 'mgx_mgx' added\n"
     ]
    }
   ],
   "source": [
    "z, x, y, adj, M = simulate_glv(\n",
    "        num_taxa=10,\n",
    "        # avg_degree=np.random.randint(5, 20),\n",
    "        avg_degree=2,\n",
    "        time_points=10000,\n",
    "        time_step=0.01,\n",
    "        downsample=1,\n",
    "        noise_var=0,\n",
    "        max_interaction_strength=1,\n",
    "    )"
   ]
  },
  {
   "cell_type": "code",
   "execution_count": 52,
   "metadata": {},
   "outputs": [],
   "source": [
    "model = DNN_pred(20, 512).to('cuda')\n",
    "\n",
    "loss_fn = torch.nn.MSELoss().to('cuda')\n",
    "optimizer = torch.optim.Adam(model.parameters(), lr=1e-2)\n",
    "scheduler = torch.optim.lr_scheduler.StepLR(optimizer, step_size= 10000, gamma=0.9)"
   ]
  },
  {
   "cell_type": "code",
   "execution_count": 53,
   "metadata": {},
   "outputs": [
    {
     "name": "stdout",
     "output_type": "stream",
     "text": [
      "Epoch: 3444, Loss: 1.0419588534205104e-06\u001b[1K\r"
     ]
    },
    {
     "ename": "KeyboardInterrupt",
     "evalue": "",
     "output_type": "error",
     "traceback": [
      "\u001b[1;31m---------------------------------------------------------------------------\u001b[0m",
      "\u001b[1;31mKeyboardInterrupt\u001b[0m                         Traceback (most recent call last)",
      "Cell \u001b[1;32mIn[53], line 4\u001b[0m\n\u001b[0;32m      2\u001b[0m \u001b[39mfor\u001b[39;00m epoch \u001b[39min\u001b[39;00m \u001b[39mrange\u001b[39m(epoch_num):\n\u001b[0;32m      3\u001b[0m     input_data \u001b[39m=\u001b[39m torch\u001b[39m.\u001b[39mfrom_numpy(abundance[:\u001b[39m-\u001b[39m\u001b[39m1\u001b[39m, :])\u001b[39m.\u001b[39mfloat()\u001b[39m.\u001b[39mto(\u001b[39m'\u001b[39m\u001b[39mcuda\u001b[39m\u001b[39m'\u001b[39m)\n\u001b[1;32m----> 4\u001b[0m     target_data \u001b[39m=\u001b[39m torch\u001b[39m.\u001b[39;49mfrom_numpy(abundance[\u001b[39m1\u001b[39;49m:, :])\u001b[39m.\u001b[39;49mfloat()\u001b[39m.\u001b[39mto(\u001b[39m'\u001b[39m\u001b[39mcuda\u001b[39m\u001b[39m'\u001b[39m)\n\u001b[0;32m      5\u001b[0m     \u001b[39m# print(input_data.shape, target_data.shape)\u001b[39;00m\n\u001b[0;32m      6\u001b[0m     output \u001b[39m=\u001b[39m model(input_data)\n",
      "\u001b[1;31mKeyboardInterrupt\u001b[0m: "
     ]
    }
   ],
   "source": [
    "epoch_num = 300000\n",
    "for epoch in range(epoch_num):\n",
    "    input_data = torch.from_numpy(abundance[:-1, :]).float().to('cuda')\n",
    "    target_data = torch.from_numpy(abundance[1:, :]).float().to('cuda')\n",
    "    # print(input_data.shape, target_data.shape)\n",
    "    output = model(input_data)\n",
    "    loss = loss_fn(output, target_data)\n",
    "\n",
    "    # identity = torch.eye(output.shape[1]).to('cuda')\n",
    "    # id_out = model(identity)\n",
    "    # lamda = 0.001\n",
    "    # loss = loss + lamda * torch.abs(id_out).sum()\n",
    "    \n",
    "    print(f\"Epoch: {epoch}, Loss: {loss.item()}\", end='\\x1b[1K\\r')\n",
    "    optimizer.zero_grad()\n",
    "    loss.backward()\n",
    "    optimizer.step()\n",
    "    scheduler.step()"
   ]
  },
  {
   "cell_type": "code",
   "execution_count": 28,
   "metadata": {},
   "outputs": [
    {
     "data": {
      "text/plain": [
       "[0.29848434836800364, 0.5378928571428572]"
      ]
     },
     "execution_count": 28,
     "metadata": {},
     "output_type": "execute_result"
    }
   ],
   "source": [
    "input_mat = torch.eye(abundance.shape[1]).to(device)\n",
    "output = np.abs(model(input_mat).detach().cpu().numpy())\n",
    "calc_nondiag_score(output, adj, metrics=[average_precision_score, roc_auc_score])"
   ]
  },
  {
   "cell_type": "code",
   "execution_count": 68,
   "metadata": {},
   "outputs": [],
   "source": [
    "model = Abs_LV(10).to('cuda')\n",
    "loss_fn = torch.nn.MSELoss().to('cuda')\n",
    "optimizer = torch.optim.Adam(model.parameters(), lr=1e-2)\n",
    "scheduler = torch.optim.lr_scheduler.StepLR(optimizer, step_size=10000, gamma=0.9)"
   ]
  },
  {
   "cell_type": "code",
   "execution_count": 69,
   "metadata": {},
   "outputs": [
    {
     "name": "stdout",
     "output_type": "stream",
     "text": [
      "Epoch: 299999, Loss: 1.720613651556846e-09\u001b[1KK\r"
     ]
    }
   ],
   "source": [
    "epoch_num = 300000\n",
    "for epoch in range(epoch_num):\n",
    "    input_data = torch.from_numpy(z[:-1, :]).float().to('cuda')\n",
    "    target_data = torch.from_numpy(z[1:, :]).float().to('cuda')\n",
    "    # print(input_data.shape, target_data.shape)\n",
    "    output = model(input_data)\n",
    "    loss = loss_fn(output, target_data)\n",
    "\n",
    "    sparse_loss = torch.norm(model.interaction, p=1) + torch.norm(model.g, p=1)\n",
    "    loss += sparse_loss * 1e-10\n",
    "    \n",
    "    print(f\"Epoch: {epoch}, Loss: {loss.item()}\", end='\\x1b[1K\\r')\n",
    "    optimizer.zero_grad()\n",
    "    loss.backward()\n",
    "    optimizer.step()\n",
    "    scheduler.step()"
   ]
  },
  {
   "cell_type": "code",
   "execution_count": 70,
   "metadata": {},
   "outputs": [],
   "source": [
    "a = model.interaction.data.cpu().numpy()\n",
    "g = model.g.data.cpu().numpy()"
   ]
  },
  {
   "cell_type": "code",
   "execution_count": 71,
   "metadata": {},
   "outputs": [
    {
     "data": {
      "text/plain": [
       "[0.4266637566996519, 0.5928571428571427]"
      ]
     },
     "execution_count": 71,
     "metadata": {},
     "output_type": "execute_result"
    }
   ],
   "source": [
    "calc_nondiag_score(np.abs(a), adj, metrics=[average_precision_score, roc_auc_score])"
   ]
  },
  {
   "cell_type": "code",
   "execution_count": 60,
   "metadata": {},
   "outputs": [
    {
     "data": {
      "text/plain": [
       "[0.38180784990377203, 0.6128571428571429]"
      ]
     },
     "execution_count": 60,
     "metadata": {},
     "output_type": "execute_result"
    }
   ],
   "source": [
    "calc_nondiag_score(np.abs(a), adj, metrics=[average_precision_score, roc_auc_score])"
   ]
  },
  {
   "cell_type": "code",
   "execution_count": 79,
   "metadata": {},
   "outputs": [],
   "source": [
    "%%capture\n",
    "prauc = []\n",
    "rocauc = []\n",
    "for i in range(50):\n",
    "    z, x, y, adj, M = simulate_glv(\n",
    "            num_taxa=5,\n",
    "            # avg_degree=np.random.randint(5, 20),\n",
    "            avg_degree=2,\n",
    "            time_points=1000,\n",
    "            time_step=0.01,\n",
    "            downsample=1,\n",
    "            noise_var=0,\n",
    "            max_interaction_strength=1,\n",
    "        )\n",
    "    model = Abs_LV(5).to('cuda')\n",
    "    loss_fn = torch.nn.MSELoss().to('cuda')\n",
    "    optimizer = torch.optim.Adam(model.parameters(), lr=1e-1)\n",
    "    scheduler = torch.optim.lr_scheduler.StepLR(optimizer, step_size=10000, gamma=0.9)\n",
    "    epoch_num = 300000\n",
    "    for epoch in range(epoch_num):\n",
    "        input_data = torch.from_numpy(z[:-1, :]).float().to('cuda')\n",
    "        target_data = torch.from_numpy(z[1:, :]).float().to('cuda')\n",
    "        # print(input_data.shape, target_data.shape)\n",
    "        output = model(input_data)\n",
    "        loss = loss_fn(output, target_data)\n",
    "\n",
    "        sparse_loss = torch.norm(model.interaction, p=1) + torch.norm(model.g, p=1)\n",
    "        loss += sparse_loss * 1e-10\n",
    "        \n",
    "        print(f\"Epoch: {epoch}, Loss: {loss.item()}\", end='\\x1b[2K\\r')\n",
    "        optimizer.zero_grad()\n",
    "        loss.backward()\n",
    "        optimizer.step()\n",
    "        scheduler.step()\n",
    "    a = model.interaction.data.cpu().numpy()\n",
    "    g = model.g.data.cpu().numpy()\n",
    "    pr, roc = calc_nondiag_score(np.abs(a), adj, metrics=[average_precision_score, roc_auc_score])\n",
    "    prauc.append(pr)\n",
    "    rocauc.append(roc)\n"
   ]
  },
  {
   "cell_type": "code",
   "execution_count": 82,
   "metadata": {},
   "outputs": [
    {
     "name": "stdout",
     "output_type": "stream",
     "text": [
      "0.8090201423103899\n",
      "0.8448\n"
     ]
    }
   ],
   "source": [
    "print(np.mean(prauc))\n",
    "print(np.mean(rocauc))"
   ]
  },
  {
   "cell_type": "code",
   "execution_count": 85,
   "metadata": {},
   "outputs": [],
   "source": [
    "np.savetxt('../data/results/abslv_prauc.txt', prauc)\n",
    "np.savetxt('../data/results/abslv_roc.txt', rocauc)"
   ]
  },
  {
   "cell_type": "code",
   "execution_count": 2,
   "metadata": {},
   "outputs": [
    {
     "name": "stdout",
     "output_type": "stream",
     "text": [
      "Node 'mgx' initialized\n",
      "Interaction 'mgx->mgx' added\n",
      "set m:(mgx)->(mgx):   0:5    0:5\n",
      "Added x0 vector to node mgx\n",
      "Added growth rates to node mgx\n",
      "Initialized\n",
      "Interaction 'mgx_mgx' added\n",
      "Epoch: 299999, Loss: 8.81574032973731e-06\u001b[2K2K\r"
     ]
    }
   ],
   "source": [
    "# %%capture\n",
    "prauc = []\n",
    "rocauc = []\n",
    "for i in range(100):\n",
    "    z, x, y, adj, M = simulate_glv(\n",
    "                num_taxa=5,\n",
    "                # avg_degree=np.random.randint(5, 20),\n",
    "                avg_degree=2,\n",
    "                time_points=1000,\n",
    "                time_step=0.01,\n",
    "                downsample=1,\n",
    "                noise_var=0,\n",
    "                max_interaction_strength=1,\n",
    "            )\n",
    "    model = Rel_LV(5).to('cuda')\n",
    "    # loss_fn = torch.nn.MSELoss().to('cuda')\n",
    "    loss_fn = torch.nn.L1Loss().to('cuda')\n",
    "    optimizer = torch.optim.Adam(model.parameters(), lr=1e-2)\n",
    "    scheduler = torch.optim.lr_scheduler.StepLR(optimizer, step_size=10000, gamma=0.9)\n",
    "    epoch_num = 300000\n",
    "    for epoch in range(epoch_num):\n",
    "        input_data = torch.from_numpy(x[:-1, :]).float().to('cuda') * 10000\n",
    "        target_data = torch.from_numpy(x[1:, :]).float().to('cuda')\n",
    "        # print(input_data.shape, target_data.shape)\n",
    "        output = model(input_data)\n",
    "        loss = loss_fn(output, target_data)\n",
    "\n",
    "        # sparse_loss = torch.norm(model.interaction, p=1) + torch.norm(model.g, p=1)\n",
    "        # loss += sparse_loss * 1e-10\n",
    "        \n",
    "        print(f\"Epoch: {epoch}, Loss: {loss.item()}\", end='\\x1b[2K\\r')\n",
    "        optimizer.zero_grad()\n",
    "        loss.backward()\n",
    "        optimizer.step()\n",
    "        scheduler.step()\n",
    "\n",
    "    a = model.interaction.data.cpu().numpy()\n",
    "    g = model.g.data.cpu().numpy()\n",
    "    pr, roc = calc_nondiag_score(np.abs(a), adj, metrics=[average_precision_score, roc_auc_score])\n",
    "    prauc.append(pr)\n",
    "    rocauc.append(roc)"
   ]
  },
  {
   "cell_type": "code",
   "execution_count": 3,
   "metadata": {},
   "outputs": [
    {
     "name": "stdout",
     "output_type": "stream",
     "text": [
      "0.5071734852694605\n",
      "0.32000000000000006\n"
     ]
    }
   ],
   "source": [
    "print(np.mean(prauc))\n",
    "print(np.mean(rocauc))\n",
    "# np.savetxt('../data/results/rellv_prauc.txt', prauc)\n",
    "# np.savetxt('../data/results/rellv_roc.txt', rocauc)"
   ]
  }
 ],
 "metadata": {
  "kernelspec": {
   "display_name": "net-simu",
   "language": "python",
   "name": "python3"
  },
  "language_info": {
   "codemirror_mode": {
    "name": "ipython",
    "version": 3
   },
   "file_extension": ".py",
   "mimetype": "text/x-python",
   "name": "python",
   "nbconvert_exporter": "python",
   "pygments_lexer": "ipython3",
   "version": "3.10.9"
  },
  "orig_nbformat": 4
 },
 "nbformat": 4,
 "nbformat_minor": 2
}
